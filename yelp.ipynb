{
 "cells": [
  {
   "cell_type": "code",
   "execution_count": 16,
   "metadata": {
    "scrolled": false
   },
   "outputs": [
    {
     "data": {
      "text/plain": [
       "[(Row(state=u'IL'), 1),\n",
       " (Row(state=u'AZ'), 2),\n",
       " (Row(state=u'VA'), 2),\n",
       " (Row(state=u'ON'), 2),\n",
       " (Row(state=u'OR'), 25175),\n",
       " (Row(state=u'ABE'), 1),\n",
       " (Row(state=u'MN'), 1),\n",
       " (Row(state=u'BC'), 17298),\n",
       " (Row(state=u'NM'), 1),\n",
       " (Row(state=u'NC'), 1),\n",
       " (Row(state=u'NY'), 2),\n",
       " (Row(state=u'OH'), 11258),\n",
       " (Row(state=u'DE'), 1),\n",
       " (Row(state=u'DC'), 1),\n",
       " (Row(state=u'HI'), 1),\n",
       " (Row(state=u'AL'), 1),\n",
       " (Row(state=u'KY'), 1),\n",
       " (Row(state=u'NH'), 4),\n",
       " (Row(state=u'GA'), 18090),\n",
       " (Row(state=u'MA'), 36012),\n",
       " (Row(state=u'FL'), 21907),\n",
       " (Row(state=u'WY'), 1),\n",
       " (Row(state=u'CO'), 3198),\n",
       " (Row(state=u'CA'), 13),\n",
       " (Row(state=u'KS'), 1),\n",
       " (Row(state=u'TX'), 24485),\n",
       " (Row(state=u'ME'), 1),\n",
       " (Row(state=u'MI'), 1),\n",
       " (Row(state=u'OK'), 1),\n",
       " (Row(state=u'WI'), 1),\n",
       " (Row(state=u'WA'), 3121)]"
      ]
     },
     "execution_count": 16,
     "metadata": {},
     "output_type": "execute_result"
    }
   ],
   "source": [
    "#Yelp business data\n",
    "business_path = \"hdfs:///yelp/yelp/yelp_academic_dataset_business.json\"\n",
    "yelp_business = spark.read.json(business_path)\n",
    "# Check which states Yelp concentrates on\n",
    "yelp_business.select(\"state\").rdd.map(lambda x: (x, 1)).reduceByKey(lambda x,y : x+y).collect()"
   ]
  },
  {
   "cell_type": "code",
   "execution_count": 17,
   "metadata": {},
   "outputs": [
    {
     "name": "stdout",
     "output_type": "stream",
     "text": [
      "+--------------------+--------------------+--------------------+--------------------+--------------+--------------------+-------+-------------+--------------+--------------------+-----------+------------+-----+-----+\n",
      "|             address|          attributes|         business_id|          categories|          city|               hours|is_open|     latitude|     longitude|                name|postal_code|review_count|stars|state|\n",
      "+--------------------+--------------------+--------------------+--------------------+--------------+--------------------+-------+-------------+--------------+--------------------+-----------+------------+-----+-----+\n",
      "| 1046 Memorial Dr SE|[,,,,,,,,, True, ...|PE9uqAjdw0E4-8mjG...|Gyms, Active Life...|       Atlanta|[16:0-19:0, 16:0-...|      1|   33.7470274|   -84.3534244|   Crossfit Terminus|      30316|          14|  4.0|   GA|\n",
      "|    5510 Memorial Dr|[,,,,,,,,, True,,...|g7CEhqBIpwTg6ERcM...|Oil Change Statio...|Stone Mountain|[8:0-18:30, 8:0-1...|      1|   33.8006868|     -84.21282|Finish Line Car Wash|      30083|          11|  2.5|   GA|\n",
      "| 3141 Piedmont Rd NE|[,,,,,,, True,, T...|Y2ojrodkbEheGttZF...|Shopping, Photogr...|       Atlanta|[10:0-19:0, 10:0-...|      0|   33.8428078|    -84.370455|Wolf Camera and I...|      30305|          15|  3.5|   GA|\n",
      "|      227 10th St NE|[,, 'full_bar', {...|arEXRZYu8220bFBJ3...|Nightlife, Bars, ...|       Atlanta|[13:0-3:0, 15:0-3...|      1|   33.7814748|    -84.379955| Blake's On The Park|      30309|         170|  3.5|   GA|\n",
      "|480 E Paces Ferry...|[,,,,,,, False,, ...|OmdMTKZe3j4oUkDrp...|Local Services, S...|       Atlanta|[9:0-17:0, 0:0-0:...|      1|33.8386563953|-84.3721918693|   Pickens, Jewelers|      30305|           9|  4.0|   GA|\n",
      "+--------------------+--------------------+--------------------+--------------------+--------------+--------------------+-------+-------------+--------------+--------------------+-----------+------------+-----+-----+\n",
      "only showing top 5 rows\n",
      "\n"
     ]
    }
   ],
   "source": [
    "# Here I select businesses in Georgia\n",
    "yelp_business = yelp_business.filter(yelp_business[\"state\"] == \"GA\")\n",
    "yelp_business.show(5)"
   ]
  },
  {
   "cell_type": "code",
   "execution_count": 3,
   "metadata": {
    "scrolled": true
   },
   "outputs": [
    {
     "name": "stdout",
     "output_type": "stream",
     "text": [
      "root\n",
      " |-- address: string (nullable = true)\n",
      " |-- attributes: struct (nullable = true)\n",
      " |    |-- AcceptsInsurance: string (nullable = true)\n",
      " |    |-- AgesAllowed: string (nullable = true)\n",
      " |    |-- Alcohol: string (nullable = true)\n",
      " |    |-- Ambience: string (nullable = true)\n",
      " |    |-- BYOB: string (nullable = true)\n",
      " |    |-- BYOBCorkage: string (nullable = true)\n",
      " |    |-- BestNights: string (nullable = true)\n",
      " |    |-- BikeParking: string (nullable = true)\n",
      " |    |-- BusinessAcceptsBitcoin: string (nullable = true)\n",
      " |    |-- BusinessAcceptsCreditCards: string (nullable = true)\n",
      " |    |-- BusinessParking: string (nullable = true)\n",
      " |    |-- ByAppointmentOnly: string (nullable = true)\n",
      " |    |-- Caters: string (nullable = true)\n",
      " |    |-- CoatCheck: string (nullable = true)\n",
      " |    |-- Corkage: string (nullable = true)\n",
      " |    |-- DietaryRestrictions: string (nullable = true)\n",
      " |    |-- DogsAllowed: string (nullable = true)\n",
      " |    |-- DriveThru: string (nullable = true)\n",
      " |    |-- GoodForDancing: string (nullable = true)\n",
      " |    |-- GoodForKids: string (nullable = true)\n",
      " |    |-- GoodForMeal: string (nullable = true)\n",
      " |    |-- HairSpecializesIn: string (nullable = true)\n",
      " |    |-- HappyHour: string (nullable = true)\n",
      " |    |-- HasTV: string (nullable = true)\n",
      " |    |-- Music: string (nullable = true)\n",
      " |    |-- NoiseLevel: string (nullable = true)\n",
      " |    |-- Open24Hours: string (nullable = true)\n",
      " |    |-- OutdoorSeating: string (nullable = true)\n",
      " |    |-- RestaurantsAttire: string (nullable = true)\n",
      " |    |-- RestaurantsCounterService: string (nullable = true)\n",
      " |    |-- RestaurantsDelivery: string (nullable = true)\n",
      " |    |-- RestaurantsGoodForGroups: string (nullable = true)\n",
      " |    |-- RestaurantsPriceRange2: string (nullable = true)\n",
      " |    |-- RestaurantsReservations: string (nullable = true)\n",
      " |    |-- RestaurantsTableService: string (nullable = true)\n",
      " |    |-- RestaurantsTakeOut: string (nullable = true)\n",
      " |    |-- Smoking: string (nullable = true)\n",
      " |    |-- WheelchairAccessible: string (nullable = true)\n",
      " |    |-- WiFi: string (nullable = true)\n",
      " |-- business_id: string (nullable = true)\n",
      " |-- categories: string (nullable = true)\n",
      " |-- city: string (nullable = true)\n",
      " |-- hours: struct (nullable = true)\n",
      " |    |-- Friday: string (nullable = true)\n",
      " |    |-- Monday: string (nullable = true)\n",
      " |    |-- Saturday: string (nullable = true)\n",
      " |    |-- Sunday: string (nullable = true)\n",
      " |    |-- Thursday: string (nullable = true)\n",
      " |    |-- Tuesday: string (nullable = true)\n",
      " |    |-- Wednesday: string (nullable = true)\n",
      " |-- is_open: long (nullable = true)\n",
      " |-- latitude: double (nullable = true)\n",
      " |-- longitude: double (nullable = true)\n",
      " |-- name: string (nullable = true)\n",
      " |-- postal_code: string (nullable = true)\n",
      " |-- review_count: long (nullable = true)\n",
      " |-- stars: double (nullable = true)\n",
      " |-- state: string (nullable = true)\n",
      "\n"
     ]
    }
   ],
   "source": [
    "yelp_business.printSchema()"
   ]
  },
  {
   "cell_type": "code",
   "execution_count": 18,
   "metadata": {},
   "outputs": [
    {
     "data": {
      "text/plain": [
       "18090"
      ]
     },
     "execution_count": 18,
     "metadata": {},
     "output_type": "execute_result"
    }
   ],
   "source": [
    "yelp_business.count()"
   ]
  },
  {
   "cell_type": "code",
   "execution_count": 25,
   "metadata": {},
   "outputs": [
    {
     "name": "stdout",
     "output_type": "stream",
     "text": [
      "+--------------------+--------------------+-----+\n",
      "|         business_id|             user_id|stars|\n",
      "+--------------------+--------------------+-----+\n",
      "|0GBGRkKM6-89K4v_m...|opnMQggysKmjRZ597...|  4.0|\n",
      "|0GBGRkKM6-89K4v_m...|asDqitqpDj483-Wf6...|  4.0|\n",
      "|0GBGRkKM6-89K4v_m...|PB1m9DzXeCS7Y74Pe...|  1.0|\n",
      "|0GBGRkKM6-89K4v_m...|RzRN1--utJLPNTZZy...|  5.0|\n",
      "|0GBGRkKM6-89K4v_m...|Mk7PE1LREOtfhbD86...|  1.0|\n",
      "+--------------------+--------------------+-----+\n",
      "only showing top 5 rows\n",
      "\n"
     ]
    }
   ],
   "source": [
    "#Yelp review data\n",
    "review_path = \"hdfs:///yelp/yelp/yelp_academic_dataset_review.json\"\n",
    "yelp_review = spark.read.json(review_path)\n",
    "# Here I only choose reviews on businesses in Georgia\n",
    "yelp_review = yelp_review.join(yelp_business, \"business_id\", \"right\").select(\"business_id\", \"user_id\", yelp_review.stars)\n",
    "yelp_review.show(5)"
   ]
  },
  {
   "cell_type": "code",
   "execution_count": 26,
   "metadata": {},
   "outputs": [
    {
     "name": "stdout",
     "output_type": "stream",
     "text": [
      "root\n",
      " |-- business_id: string (nullable = true)\n",
      " |-- user_id: string (nullable = true)\n",
      " |-- stars: double (nullable = true)\n",
      "\n"
     ]
    }
   ],
   "source": [
    "yelp_review.printSchema()"
   ]
  },
  {
   "cell_type": "code",
   "execution_count": 27,
   "metadata": {},
   "outputs": [
    {
     "data": {
      "text/plain": [
       "1150884"
      ]
     },
     "execution_count": 27,
     "metadata": {},
     "output_type": "execute_result"
    }
   ],
   "source": [
    "yelp_review.count()"
   ]
  },
  {
   "cell_type": "code",
   "execution_count": 36,
   "metadata": {},
   "outputs": [
    {
     "name": "stdout",
     "output_type": "stream",
     "text": [
      "+--------------------+------------------+\n",
      "|             user_id|         avg_stars|\n",
      "+--------------------+------------------+\n",
      "|--hJsDxzXZURcLxaL...|               5.0|\n",
      "|-1KKYzibGPyUX-Mwk...|               5.0|\n",
      "|-3OVrB4JWtQRdc4z9...|               1.0|\n",
      "|-5KsgNvefcsmh7BL8...|3.6666666666666665|\n",
      "|-6IVb5e2YX3_xylub...|               4.0|\n",
      "+--------------------+------------------+\n",
      "only showing top 5 rows\n",
      "\n"
     ]
    }
   ],
   "source": [
    "#Yelp user data\n",
    "from pyspark.sql.functions import avg\n",
    "user_path = \"hdfs:///yelp/yelp/yelp_academic_dataset_user.json\"\n",
    "yelp_user = spark.read.json(user_path)\n",
    "# Here I only choose users who have given at least one review on businesses in Georgia\n",
    "yelp_user = yelp_user.join(yelp_review, \"user_id\", \"right\").select(\"user_id\", \"stars\", \"name\")\n",
    "# Calculating the average stars of each user giving to the chosen businesses\n",
    "yelp_user = yelp_user.groupBy(\"user_id\").avg(\"stars\").withColumnRenamed(\"avg(stars)\", \"avg_stars\")\n",
    "yelp_user.show(5)"
   ]
  },
  {
   "cell_type": "code",
   "execution_count": 37,
   "metadata": {
    "scrolled": true
   },
   "outputs": [
    {
     "name": "stdout",
     "output_type": "stream",
     "text": [
      "root\n",
      " |-- user_id: string (nullable = true)\n",
      " |-- avg_stars: double (nullable = true)\n",
      "\n"
     ]
    }
   ],
   "source": [
    "yelp_user.printSchema()"
   ]
  },
  {
   "cell_type": "code",
   "execution_count": 38,
   "metadata": {},
   "outputs": [
    {
     "data": {
      "text/plain": [
       "345324"
      ]
     },
     "execution_count": 38,
     "metadata": {},
     "output_type": "execute_result"
    }
   ],
   "source": [
    "yelp_user.count()"
   ]
  },
  {
   "cell_type": "markdown",
   "metadata": {},
   "source": [
    "## Build the Bipartite Graph"
   ]
  },
  {
   "cell_type": "code",
   "execution_count": null,
   "metadata": {},
   "outputs": [],
   "source": [
    "# \"U\" is the prefix for user id and \"B\" is the prefix for business id to make the vertex ids unique \n",
    "# (i.e. to avoid an user id with the same value of a business id)\n",
    "businessVertices = yelp_business.rdd.map(lambda r: Row(id=\"B\"+str(r.business_id), vtype=\"business\", avg_stars=r.stars)).toDF()\n",
    "userVertices = yelp_user.rdd.map(lambda r: Row(id=\"U\"+str(r.user_id), vtype=\"user\", avg_stars=r.avg_stars)).toDF()\n",
    "\n",
    "reviewEdges = yelp_review.rdd.map(lambda r: Row(src=\"U\"+str(r.user_id),dst=\"B\"+str(r.business_id), stars=r.stars)).toDF()\n",
    "\n",
    "# build the graph\n",
    "bipartiteVertices = userVertices.unionAll(businessVertices)\n",
    "bipartiteGraph = GraphFrame(bipartiteVertices, reviewEdges)"
   ]
  },
  {
   "cell_type": "code",
   "execution_count": null,
   "metadata": {},
   "outputs": [],
   "source": []
  },
  {
   "cell_type": "code",
   "execution_count": null,
   "metadata": {},
   "outputs": [],
   "source": []
  }
 ],
 "metadata": {
  "kernelspec": {
   "display_name": "PySpark",
   "language": "python",
   "name": "pyspark"
  },
  "language_info": {
   "codemirror_mode": {
    "name": "ipython",
    "version": 2
   },
   "file_extension": ".py",
   "mimetype": "text/x-python",
   "name": "python",
   "nbconvert_exporter": "python",
   "pygments_lexer": "ipython2",
   "version": "2.7.14"
  }
 },
 "nbformat": 4,
 "nbformat_minor": 2
}
