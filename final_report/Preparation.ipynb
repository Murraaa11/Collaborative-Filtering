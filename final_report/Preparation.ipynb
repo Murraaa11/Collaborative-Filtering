{
 "cells": [
  {
   "cell_type": "markdown",
   "metadata": {},
   "source": [
    "As a Windows user, I created the cluster using the following command:\n",
    "\n",
    "***gcloud beta dataproc clusters create muyi-cluster --properties=^#^spark:spark.jars.packages=graphframes:graphframes:0.5.0-spark2.1-s_2.11,com.databricks:spark-xml_2.11:0.4.1 --subnet default --enable-component-gateway --region asia-east2 --zone asia-east2-c --master-machine-type n1-standard-4 --master-boot-disk-size 500 --num-workers 2 --worker-machine-type c2-standard-4 --worker-boot-disk-size 500 --image-version 1.3-debian10 --optional-components ANACONDA,JUPYTER --project black-seer-302506 --metadata 'PIP_PACKAGES=sklearn nltk pandas graphframes'***"
   ]
  },
  {
   "cell_type": "markdown",
   "metadata": {},
   "source": [
    "In the terminal of the cluster, I used the following command to download the Yelp data:\n",
    "\n",
    "***wget -U 'Mozilla/5.0 (Windows NT 10.0; Win64; x64) AppleWebKit/537.36 (KHTML, like Gecko) Chrome/89.0.4389.114 Safari/537.36' -O yelp_dataset.tgz \"Yelp_data_link\"***\n",
    "\n",
    "Note the \"Yelp_data_link\" can be achieved on the official website https://www.yelp.com/dataset. (Note the download link fails in 30 seconds)"
   ]
  },
  {
   "cell_type": "markdown",
   "metadata": {},
   "source": [
    "Then I uncompressed the tgz file and uploaded it into HDFS:\n",
    "\n",
    "***mkdir yelp<br/>***\n",
    "***tar -xvzf yelp_dataset.tgz -C yelp/<br/>***\n",
    "***cd yelp<br/>***\n",
    "***hadoop fs -put ./ /yelp<br/>***\n"
   ]
  },
  {
   "cell_type": "markdown",
   "metadata": {},
   "source": [
    "At last, I uploaded the files *yelpALS.ipynb*, *yelpWBGP.ipynb*, *comparison_result.ipynb* and *AggregateMessages.py* to the cluster and ran the three ipynb files one by one."
   ]
  },
  {
   "cell_type": "code",
   "execution_count": null,
   "metadata": {},
   "outputs": [],
   "source": []
  }
 ],
 "metadata": {
  "kernelspec": {
   "display_name": "Python 3",
   "language": "python",
   "name": "python3"
  },
  "language_info": {
   "codemirror_mode": {
    "name": "ipython",
    "version": 3
   },
   "file_extension": ".py",
   "mimetype": "text/x-python",
   "name": "python",
   "nbconvert_exporter": "python",
   "pygments_lexer": "ipython3",
   "version": "3.8.5"
  }
 },
 "nbformat": 4,
 "nbformat_minor": 4
}
