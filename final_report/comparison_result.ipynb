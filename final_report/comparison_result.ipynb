{
 "cells": [
  {
   "cell_type": "markdown",
   "metadata": {},
   "source": [
    "## Loading the small datasets"
   ]
  },
  {
   "cell_type": "code",
   "execution_count": 4,
   "metadata": {},
   "outputs": [],
   "source": [
    "#Add the current path into the system path\n",
    "import sys,os\n",
    "curPath = os.path.abspath(os.path.dirname(\"/home/murrawang/\"))\n",
    "sys.path.append(curPath)\n",
    "\n",
    "# Import necessary libraries\n",
    "from pyspark.sql import SQLContext\n",
    "import graphframes\n",
    "from graphframes import *\n",
    "from AggregateMessages import *\n",
    "\n",
    "import matplotlib.pyplot as plt\n",
    "%matplotlib inline\n",
    "\n",
    "from pyspark.sql.functions import col, lit, when, avg, collect_list, mean, row_number\n",
    "from pyspark.sql import Row\n",
    "from pyspark.sql.window import Window\n",
    "\n",
    "from datetime import datetime\n",
    "import numpy as np\n",
    "\n",
    "from pyspark.ml.evaluation import RegressionEvaluator\n",
    "from pyspark.ml.recommendation import ALS"
   ]
  },
  {
   "cell_type": "code",
   "execution_count": 5,
   "metadata": {},
   "outputs": [],
   "source": [
    "#loading the target dataset\n",
    "review_path = \"hdfs:///yelp/yelp_review.json\"\n",
    "yelp_review = spark.read.json(review_path)"
   ]
  },
  {
   "cell_type": "code",
   "execution_count": 6,
   "metadata": {},
   "outputs": [],
   "source": [
    "# ALS algorithm needs IDs to be numerical type, so I transfer the string type ID to the numerical type ID.\n",
    "w = Window().orderBy(lit('A'))\n",
    "yelp_user_with_numid = yelp_review.select(\"user_id\").distinct().withColumn(\"user_numid\", row_number().over(w))\n",
    "yelp_business_with_numid = yelp_review.select(\"business_id\").distinct().withColumn(\"business_numid\", row_number().over(w))\n",
    "yelp_review = yelp_review.join(yelp_user_with_numid, \"user_id\", \"left\").join(yelp_business_with_numid, \"business_id\", \"left\")"
   ]
  },
  {
   "cell_type": "markdown",
   "metadata": {},
   "source": [
    "## Define functions for calculating the RMSE of both methods"
   ]
  },
  {
   "cell_type": "code",
   "execution_count": 7,
   "metadata": {},
   "outputs": [],
   "source": [
    "# Calculating the recommendation power\n",
    "def RecommendPower(row):\n",
    "    rp = (row.b1_stars*row.b2_stars)/(row.b1_total_bstars*float(row.user_info[1]))\n",
    "    return Row(b1_id=row.b1_id, b2_id=row.b2_id, rp=rp)\n",
    "\n",
    "# predict the ratings\n",
    "def Prediction(row):\n",
    "    pred = row.avg_stars\n",
    "    if (row.sim_list is not None and row.br_list is not None):\n",
    "        for i in range(len(row.sim_list)):\n",
    "            for j in range(len(row.br_list)):\n",
    "                if row.sim_list[i][0] == row.br_list[j][0]:\n",
    "                    pred += float(row.sim_list[i][2])*(float(row.br_list[j][1])-float(row.sim_list[i][1]))\n",
    "    return Row(business_id=row.business_id, user_id=row.user_id, actual_stars=row.stars, pred_stars=pred)\n",
    "\n",
    "# Calculate the rmse of WBGP approach\n",
    "def WBGPrmse(training_r, test_r):\n",
    "    yelp_user = yelp_review.select(\"user_id\").distinct()\n",
    "    yelp_user = yelp_user.join(training_r.groupBy(\"user_id\").avg(\"stars\").withColumnRenamed(\"avg(stars)\", \"avg_stars\"), \"user_id\", \"left\").\\\n",
    "                  join(training_r.groupBy(\"user_id\").count().withColumnRenamed(\"count\", \"review_count\"), \"user_id\", \"left\").na.fill(0)\n",
    "    yelp_business = yelp_review.select(\"business_id\").distinct()\n",
    "    yelp_business = yelp_business.join(training_r.groupBy(\"business_id\").avg(\"stars\").withColumnRenamed(\"avg(stars)\", \"avg_stars\"), \"business_id\", \"left\").\\\n",
    "                  join(training_r.groupBy(\"business_id\").count().withColumnRenamed(\"count\", \"review_count\"), \"business_id\", \"left\").na.fill(0)\n",
    "    bt = yelp_business.rdd.map(lambda r: Row(business_id=r.business_id, total_bstars=r.avg_stars*r.review_count)).toDF()\n",
    "    ut = yelp_user.rdd.map(lambda r: Row(user_id=r.user_id, total_ustars=r.avg_stars*r.review_count)).toDF()\n",
    "    review_with_info = training_r.join(ut, \"user_id\", \"left\").join(bt, \"business_id\", \"left\")\\\n",
    "                               .rdd.map(lambda r: Row(user_info=[\"U\"+str(r.user_id), r.total_ustars], business_id=\"B\"+str(r.business_id), total_bstars=r.total_bstars, \\\n",
    "                                stars=r.stars)).toDF()\n",
    "    df_as1 = review_with_info.withColumnRenamed(\"business_id\", \"b1_id\").\\\n",
    "               withColumnRenamed(\"stars\", \"b1_stars\").withColumnRenamed(\"total_bstars\", \"b1_total_bstars\")\n",
    "    df_as2 = review_with_info.withColumnRenamed(\"business_id\", \"b2_id\").\\\n",
    "               withColumnRenamed(\"stars\", \"b2_stars\").withColumnRenamed(\"total_bstars\", \"b2_total_bstars\")\n",
    "    bpairs = df_as1.join(df_as2, \"user_info\")\n",
    "    bpairs_withrp = bpairs.rdd.map(RecommendPower).toDF()\n",
    "    business_similarity = bpairs_withrp.groupBy([\"b1_id\", \"b2_id\"]).sum(\"rp\").withColumnRenamed(\"sum(rp)\", \"similarity\")\n",
    "    \n",
    "    businessVertices = yelp_business.rdd.map(lambda r: Row(id=\"B\"+str(r.business_id), vtype=\"business\", avg_stars=r.avg_stars, review_count=r.review_count)).toDF()\n",
    "    userVertices = yelp_user.rdd.map(lambda r: Row(id=\"U\"+str(r.user_id), vtype=\"user\", avg_stars=r.avg_stars, review_count=r.review_count)).toDF()\n",
    "    reviewEdges = training_r.join(yelp_user, \"user_id\", \"left\")\\\n",
    "                      .rdd.map(lambda r: Row(src=\"U\"+str(r.user_id),dst=\"B\"+str(r.business_id), \\\n",
    "                       ustars=[\"U\"+str(r.user_id), r.avg_stars*r.review_count, r.stars], \\\n",
    "                        bstars=[\"B\"+str(r.business_id), r.stars])).toDF()\n",
    "    bipartiteVertices = userVertices.unionAll(businessVertices)\n",
    "    bipartiteGraph = GraphFrame(bipartiteVertices, reviewEdges)\n",
    "    business_similarity = business_similarity.join(businessVertices.select(\"id\", \"avg_stars\").\\\n",
    "                         withColumnRenamed(\"id\", \"b2_id\").withColumnRenamed(\"avg_stars\", \"b2_avg_stars\"), \"b2_id\", \"left\")\n",
    "    weightEdges = business_similarity.rdd.map(lambda r: Row(src=r.b1_id, dst=r.b2_id, sim=[r.b2_id, r.b2_avg_stars, r.similarity])).toDF()\n",
    "    BGprojection = GraphFrame(businessVertices, weightEdges)\n",
    "    testr_withprefix = test_r.rdd.map(lambda r: Row(business_id=\"B\"+str(r.business_id), user_id=\"U\"+str(r.user_id), stars=r.stars)).toDF()\n",
    "    msgtoSrc = AM.edge['sim']\n",
    "    testr_withsim = BGprojection.aggregateMessages\\\n",
    "                            (collect_list(AM.msg).alias('sim_list'), sendToSrc=msgtoSrc).withColumnRenamed(\"id\", \"business_id\").\\\n",
    "                            join(testr_withprefix, \"business_id\", \"right\").\\\n",
    "                            join(businessVertices.select(\"id\", \"avg_stars\").withColumnRenamed(\"id\", \"business_id\"), \"business_id\", \"left\")\n",
    "    msgtoSrc = AM.edge['bstars']\n",
    "    testr_withsimbr = bipartiteGraph.aggregateMessages\\\n",
    "                            (collect_list(AM.msg).alias('br_list'), sendToSrc=msgtoSrc).withColumnRenamed(\"id\", \"user_id\").\\\n",
    "                            join(testr_withsim, \"user_id\", \"right\")\n",
    "    result = testr_withsimbr.rdd.map(Prediction).toDF()\n",
    "    evaluator = RegressionEvaluator(metricName=\"rmse\", labelCol=\"actual_stars\", predictionCol=\"pred_stars\")\n",
    "    rmse = evaluator.evaluate(result)\n",
    "    return rmse\n",
    "\n",
    "# Calculate the rmse of ALS approach\n",
    "def ALSrmse(training_r, test_r):\n",
    "    numberLatentFactors = 3\n",
    "    als = ALS(rank=numberLatentFactors, maxIter=14, regParam=0.5, \n",
    "          userCol=\"user_numid\", itemCol=\"business_numid\", ratingCol=\"stars\", \n",
    "          coldStartStrategy=\"drop\")\n",
    "    model = als.fit(training_r)\n",
    "    predictions = model.transform(test_r)\n",
    "    evaluator = RegressionEvaluator(metricName=\"rmse\", labelCol=\"stars\", predictionCol=\"prediction\")\n",
    "    rmse = evaluator.evaluate(predictions)\n",
    "    return rmse\n",
    "\n"
   ]
  },
  {
   "cell_type": "markdown",
   "metadata": {},
   "source": [
    "## Compare the results"
   ]
  },
  {
   "cell_type": "code",
   "execution_count": null,
   "metadata": {},
   "outputs": [],
   "source": [
    "# I calculate the test rmse of both methods for 5 runs.\n",
    "rmseforWBGP = []\n",
    "rmseforALS = []\n",
    "runs = 5\n",
    "for i in range(runs):\n",
    "    # split the review data to training and test parts\n",
    "    (training, test) = yelp_review.randomSplit([0.8, 0.2], seed=i+8)\n",
    "    training.cache()\n",
    "    test.cache()\n",
    "    rmseforWBGP.append(WBGPrmse(training, test))\n",
    "    rmseforALS.append(ALSrmse(training, test))"
   ]
  },
  {
   "cell_type": "code",
   "execution_count": 11,
   "metadata": {},
   "outputs": [
    {
     "name": "stdout",
     "output_type": "stream",
     "text": [
      "('RMSE for WBGP: ', [1.41265912825269, 1.4030538911480255, 1.399520900504731, 1.4010496727075687, 1.3998860584731567])\n",
      "('RMSE for ALS: ', [2.249842108546035, 2.2611314369532822, 2.2892678320042106, 2.2440321396321545, 2.2366928261125545])\n",
      "('Average RMSE for WBGP:', 1.4032339302172345)\n",
      "('Average RMSE for ALS:', 2.256193268649647)\n",
      "('Standard Error of RMSE for WBGP:', 0.0048709873291408355)\n",
      "('Standard Error of RMSE for ALS:', 0.018367415714108097)\n"
     ]
    }
   ],
   "source": [
    "# Summary of the result\n",
    "print(\"RMSE for WBGP: \", rmseforWBGP)\n",
    "print(\"RMSE for ALS: \", rmseforALS)\n",
    "print(\"Average RMSE for WBGP:\", np.mean(rmseforWBGP))\n",
    "print(\"Average RMSE for ALS:\", np.mean(rmseforALS))\n",
    "print(\"Standard Error of RMSE for WBGP:\", np.std(rmseforWBGP))\n",
    "print(\"Standard Error of RMSE for ALS:\", np.std(rmseforALS))"
   ]
  },
  {
   "cell_type": "code",
   "execution_count": 12,
   "metadata": {},
   "outputs": [
    {
     "data": {
      "image/png": "[encoded data removed]",
      "text/plain": [
       "<matplotlib.figure.Figure at 0x7f8e9740f490>"
      ]
     },
     "metadata": {},
     "output_type": "display_data"
    }
   ],
   "source": [
    "#### plotting ####\n",
    "plt.plot(rmseforWBGP, color='blue', label='WBGP')\n",
    "plt.plot(rmseforALS, color='orange', label='ALS')\n",
    "plt.legend(loc='upper right')\n",
    "plt.xlabel('number of runs')\n",
    "plt.ylabel('root mean squared error')\n",
    "plt.show()"
   ]
  },
  {
   "cell_type": "code",
   "execution_count": null,
   "metadata": {},
   "outputs": [],
   "source": []
  },
  {
   "cell_type": "code",
   "execution_count": null,
   "metadata": {},
   "outputs": [],
   "source": []
  },
  {
   "cell_type": "code",
   "execution_count": null,
   "metadata": {},
   "outputs": [],
   "source": []
  }
 ],
 "metadata": {
  "kernelspec": {
   "display_name": "PySpark",
   "language": "python",
   "name": "pyspark"
  },
  "language_info": {
   "codemirror_mode": {
    "name": "ipython",
    "version": 2
   },
   "file_extension": ".py",
   "mimetype": "text/x-python",
   "name": "python",
   "nbconvert_exporter": "python",
   "pygments_lexer": "ipython2",
   "version": "2.7.14"
  }
 },
 "nbformat": 4,
 "nbformat_minor": 2
}
