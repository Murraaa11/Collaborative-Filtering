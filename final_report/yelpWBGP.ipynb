{
 "cells": [
  {
   "cell_type": "markdown",
   "metadata": {},
   "source": [
    "## Look at the data"
   ]
  },
  {
   "cell_type": "code",
   "execution_count": 38,
   "metadata": {},
   "outputs": [],
   "source": [
    "#Add the current path into the system path\n",
    "import sys,os\n",
    "curPath = os.path.abspath(os.path.dirname(\"/home/murrawang/\"))\n",
    "sys.path.append(curPath)\n",
    "\n",
    "# Import necessary libraries\n",
    "from pyspark.sql import SQLContext\n",
    "import graphframes\n",
    "from graphframes import *\n",
    "from AggregateMessages import *\n",
    "\n",
    "import matplotlib.pyplot as plt\n",
    "%matplotlib inline\n",
    "\n",
    "from pyspark.sql.functions import col, lit, when, avg, collect_list, mean\n",
    "from pyspark.sql import Row\n",
    "\n",
    "from datetime import datetime\n",
    "import numpy as np\n",
    "\n",
    "from pyspark.ml.evaluation import RegressionEvaluator\n",
    "from pyspark.ml.recommendation import ALS"
   ]
  },
  {
   "cell_type": "code",
   "execution_count": 39,
   "metadata": {
    "scrolled": false
   },
   "outputs": [
    {
     "data": {
      "text/plain": [
       "[(Row(state=u'AZ'), 2),\n",
       " (Row(state=u'ON'), 2),\n",
       " (Row(state=u'VA'), 2),\n",
       " (Row(state=u'NM'), 1),\n",
       " (Row(state=u'DE'), 1),\n",
       " (Row(state=u'OH'), 11258),\n",
       " (Row(state=u'MN'), 1),\n",
       " (Row(state=u'AL'), 1),\n",
       " (Row(state=u'ME'), 1),\n",
       " (Row(state=u'TX'), 24485),\n",
       " (Row(state=u'DC'), 1),\n",
       " (Row(state=u'NC'), 1),\n",
       " (Row(state=u'KY'), 1),\n",
       " (Row(state=u'NH'), 4),\n",
       " (Row(state=u'FL'), 21907),\n",
       " (Row(state=u'CO'), 3198),\n",
       " (Row(state=u'KS'), 1),\n",
       " (Row(state=u'MI'), 1),\n",
       " (Row(state=u'WI'), 1),\n",
       " (Row(state=u'IL'), 1),\n",
       " (Row(state=u'OR'), 25175),\n",
       " (Row(state=u'ABE'), 1),\n",
       " (Row(state=u'NY'), 2),\n",
       " (Row(state=u'BC'), 17298),\n",
       " (Row(state=u'HI'), 1),\n",
       " (Row(state=u'GA'), 18090),\n",
       " (Row(state=u'WY'), 1),\n",
       " (Row(state=u'OK'), 1),\n",
       " (Row(state=u'CA'), 13),\n",
       " (Row(state=u'WA'), 3121),\n",
       " (Row(state=u'MA'), 36012)]"
      ]
     },
     "execution_count": 39,
     "metadata": {},
     "output_type": "execute_result"
    }
   ],
   "source": [
    "#Yelp business data\n",
    "business_path = \"hdfs:///yelp/yelp_academic_dataset_business.json\"\n",
    "yelp_business = spark.read.json(business_path)\n",
    "# Check which states Yelp concentrates on\n",
    "yelp_business.select(\"state\").rdd.map(lambda x: (x, 1)).reduceByKey(lambda x,y : x+y).collect()"
   ]
  },
  {
   "cell_type": "code",
   "execution_count": 40,
   "metadata": {},
   "outputs": [
    {
     "name": "stdout",
     "output_type": "stream",
     "text": [
      "+--------------------+--------------------+--------------------+--------------------+---------+--------------------+-------+-------------+---------------+--------------------+-----------+------------+-----+-----+\n",
      "|             address|          attributes|         business_id|          categories|     city|               hours|is_open|     latitude|      longitude|                name|postal_code|review_count|stars|state|\n",
      "+--------------------+--------------------+--------------------+--------------------+---------+--------------------+-------+-------------+---------------+--------------------+-----------+------------+-----+-----+\n",
      "|        102 E 9th St|[,,,,,,,, False, ...|Yyym58vWvlRPuMCOI...|Local Services, S...|Vancouver|[7:0-17:45, 7:0-1...|      1|45.6282350755|-122.6712514978|Shirley's Tape An...|      98660|          27|  4.5|   WA|\n",
      "|10722 NW Lakeshor...|[,, u'full_bar', ...|Mf9io8WkMyGautXuS...|Restaurants, Food...|Vancouver|[11:0-21:0, 0:0-0...|      1|   45.6988889|    -122.703543|Los Potrillos Mex...|      98685|          63|  3.5|   WA|\n",
      "|14930 SE Mill Pla...|[,,,,,,, False,, ...|t-jwGEBsMYlQYxiiq...|Food, Seafood Mar...|Vancouver|[9:30-20:0, 9:30-...|      1|    45.617405|    -122.518675|   Ocean King Market|      98684|          27|  3.5|   WA|\n",
      "|    7405 NE 94th Ave|[,,,,,,,,, True,,...|Lbkmt8RRWw_VefKsa...|Heating & Air Con...|Vancouver|[8:0-20:0, 8:0-20...|      1|    45.675948|    -122.575502|Smart Choice Heat...|      98662|          23|  4.5|   WA|\n",
      "|16400 SE Nautilus Dr|[,,,,,,, None,, N...|92U5Fpu4dFh4wZvAJ...|Active Life, Gyms...|Vancouver|[8:0-17:0, 8:0-17...|      1|    45.617682|    -122.489611|            Nautilus|      98683|          15|  2.0|   WA|\n",
      "+--------------------+--------------------+--------------------+--------------------+---------+--------------------+-------+-------------+---------------+--------------------+-----------+------------+-----+-----+\n",
      "only showing top 5 rows\n",
      "\n"
     ]
    }
   ],
   "source": [
    "# Here I select businesses in Washington state \n",
    "# I drop the businesses which have fewer than 15 reviews to reduce the sparseness.\n",
    "yelp_business = yelp_business.filter((yelp_business[\"state\"] == \"WA\") & (yelp_business[\"review_count\"] >= 15))\n",
    "yelp_business.show(5)"
   ]
  },
  {
   "cell_type": "code",
   "execution_count": 41,
   "metadata": {
    "scrolled": true
   },
   "outputs": [
    {
     "name": "stdout",
     "output_type": "stream",
     "text": [
      "root\n",
      " |-- address: string (nullable = true)\n",
      " |-- attributes: struct (nullable = true)\n",
      " |    |-- AcceptsInsurance: string (nullable = true)\n",
      " |    |-- AgesAllowed: string (nullable = true)\n",
      " |    |-- Alcohol: string (nullable = true)\n",
      " |    |-- Ambience: string (nullable = true)\n",
      " |    |-- BYOB: string (nullable = true)\n",
      " |    |-- BYOBCorkage: string (nullable = true)\n",
      " |    |-- BestNights: string (nullable = true)\n",
      " |    |-- BikeParking: string (nullable = true)\n",
      " |    |-- BusinessAcceptsBitcoin: string (nullable = true)\n",
      " |    |-- BusinessAcceptsCreditCards: string (nullable = true)\n",
      " |    |-- BusinessParking: string (nullable = true)\n",
      " |    |-- ByAppointmentOnly: string (nullable = true)\n",
      " |    |-- Caters: string (nullable = true)\n",
      " |    |-- CoatCheck: string (nullable = true)\n",
      " |    |-- Corkage: string (nullable = true)\n",
      " |    |-- DietaryRestrictions: string (nullable = true)\n",
      " |    |-- DogsAllowed: string (nullable = true)\n",
      " |    |-- DriveThru: string (nullable = true)\n",
      " |    |-- GoodForDancing: string (nullable = true)\n",
      " |    |-- GoodForKids: string (nullable = true)\n",
      " |    |-- GoodForMeal: string (nullable = true)\n",
      " |    |-- HairSpecializesIn: string (nullable = true)\n",
      " |    |-- HappyHour: string (nullable = true)\n",
      " |    |-- HasTV: string (nullable = true)\n",
      " |    |-- Music: string (nullable = true)\n",
      " |    |-- NoiseLevel: string (nullable = true)\n",
      " |    |-- Open24Hours: string (nullable = true)\n",
      " |    |-- OutdoorSeating: string (nullable = true)\n",
      " |    |-- RestaurantsAttire: string (nullable = true)\n",
      " |    |-- RestaurantsCounterService: string (nullable = true)\n",
      " |    |-- RestaurantsDelivery: string (nullable = true)\n",
      " |    |-- RestaurantsGoodForGroups: string (nullable = true)\n",
      " |    |-- RestaurantsPriceRange2: string (nullable = true)\n",
      " |    |-- RestaurantsReservations: string (nullable = true)\n",
      " |    |-- RestaurantsTableService: string (nullable = true)\n",
      " |    |-- RestaurantsTakeOut: string (nullable = true)\n",
      " |    |-- Smoking: string (nullable = true)\n",
      " |    |-- WheelchairAccessible: string (nullable = true)\n",
      " |    |-- WiFi: string (nullable = true)\n",
      " |-- business_id: string (nullable = true)\n",
      " |-- categories: string (nullable = true)\n",
      " |-- city: string (nullable = true)\n",
      " |-- hours: struct (nullable = true)\n",
      " |    |-- Friday: string (nullable = true)\n",
      " |    |-- Monday: string (nullable = true)\n",
      " |    |-- Saturday: string (nullable = true)\n",
      " |    |-- Sunday: string (nullable = true)\n",
      " |    |-- Thursday: string (nullable = true)\n",
      " |    |-- Tuesday: string (nullable = true)\n",
      " |    |-- Wednesday: string (nullable = true)\n",
      " |-- is_open: long (nullable = true)\n",
      " |-- latitude: double (nullable = true)\n",
      " |-- longitude: double (nullable = true)\n",
      " |-- name: string (nullable = true)\n",
      " |-- postal_code: string (nullable = true)\n",
      " |-- review_count: long (nullable = true)\n",
      " |-- stars: double (nullable = true)\n",
      " |-- state: string (nullable = true)\n",
      "\n"
     ]
    }
   ],
   "source": [
    "yelp_business.printSchema()"
   ]
  },
  {
   "cell_type": "code",
   "execution_count": 42,
   "metadata": {},
   "outputs": [
    {
     "data": {
      "text/plain": [
       "1589"
      ]
     },
     "execution_count": 42,
     "metadata": {},
     "output_type": "execute_result"
    }
   ],
   "source": [
    "yelp_business.count()"
   ]
  },
  {
   "cell_type": "code",
   "execution_count": 43,
   "metadata": {},
   "outputs": [
    {
     "name": "stdout",
     "output_type": "stream",
     "text": [
      "+--------------------+--------------------+-----+\n",
      "|         business_id|             user_id|stars|\n",
      "+--------------------+--------------------+-----+\n",
      "|-36nnCT71XE0InJXK...|5hjAPltdXiHM3Ng4i...|  1.0|\n",
      "|-36nnCT71XE0InJXK...|WiVyzMjKiOOyF2kK1...|  5.0|\n",
      "|-36nnCT71XE0InJXK...|tU52QQnMGbJA8o89z...|  1.0|\n",
      "|-36nnCT71XE0InJXK...|Xg7RVVk9zNXTXyvCZ...|  1.0|\n",
      "|-36nnCT71XE0InJXK...|wKBjsz3O0DYzXIxr8...|  2.0|\n",
      "+--------------------+--------------------+-----+\n",
      "only showing top 5 rows\n",
      "\n"
     ]
    }
   ],
   "source": [
    "#Yelp review data\n",
    "review_path = \"hdfs:///yelp/yelp_academic_dataset_review.json\"\n",
    "yelp_review = spark.read.json(review_path)\n",
    "# Here I only choose reviews on businesses in Washington state\n",
    "# I apply \"dropDuplicates\" so that a user only gives one review to a particular business, otherwise our prediction may \n",
    "# diverge since the sum of the similarities can exceed one.\n",
    "yelp_review = yelp_review.join(yelp_business, \"business_id\", \"right\").\\\n",
    "                    select(\"business_id\", \"user_id\", yelp_review.stars).dropDuplicates([\"business_id\", \"user_id\"])\n",
    "yelp_review.show(5)"
   ]
  },
  {
   "cell_type": "code",
   "execution_count": 44,
   "metadata": {},
   "outputs": [
    {
     "name": "stdout",
     "output_type": "stream",
     "text": [
      "root\n",
      " |-- business_id: string (nullable = true)\n",
      " |-- user_id: string (nullable = true)\n",
      " |-- stars: double (nullable = true)\n",
      "\n"
     ]
    }
   ],
   "source": [
    "yelp_review.printSchema()"
   ]
  },
  {
   "cell_type": "code",
   "execution_count": 45,
   "metadata": {},
   "outputs": [
    {
     "data": {
      "text/plain": [
       "102383"
      ]
     },
     "execution_count": 45,
     "metadata": {},
     "output_type": "execute_result"
    }
   ],
   "source": [
    "yelp_review.count()"
   ]
  },
  {
   "cell_type": "code",
   "execution_count": 46,
   "metadata": {},
   "outputs": [],
   "source": [
    "#save the review dataset\n",
    "yelp_review.write.save(\"hdfs:///yelp/yelp_review.json\", format=\"json\")"
   ]
  },
  {
   "cell_type": "markdown",
   "metadata": {},
   "source": [
    "## Loading the small datasets"
   ]
  },
  {
   "cell_type": "code",
   "execution_count": 1,
   "metadata": {},
   "outputs": [],
   "source": [
    "#Add the current path into the system path\n",
    "import sys,os\n",
    "curPath = os.path.abspath(os.path.dirname(\"/home/murrawang/\"))\n",
    "sys.path.append(curPath)\n",
    "\n",
    "# Import necessary libraries\n",
    "from pyspark.sql import SQLContext\n",
    "import graphframes\n",
    "from graphframes import *\n",
    "from AggregateMessages import *\n",
    "\n",
    "import matplotlib.pyplot as plt\n",
    "%matplotlib inline\n",
    "\n",
    "from pyspark.sql.functions import col, lit, when, avg, collect_list, mean\n",
    "from pyspark.sql import Row\n",
    "\n",
    "from datetime import datetime\n",
    "import numpy as np\n",
    "\n",
    "from pyspark.ml.evaluation import RegressionEvaluator\n",
    "from pyspark.ml.recommendation import ALS"
   ]
  },
  {
   "cell_type": "code",
   "execution_count": 2,
   "metadata": {},
   "outputs": [],
   "source": [
    "#loading the target dataset\n",
    "review_path = \"hdfs:///yelp/yelp_review.json\"\n",
    "yelp_review = spark.read.json(review_path)"
   ]
  },
  {
   "cell_type": "code",
   "execution_count": 3,
   "metadata": {},
   "outputs": [
    {
     "name": "stdout",
     "output_type": "stream",
     "text": [
      "('Number of partitions: ', 7)\n",
      "('Number of workers:', 2)\n"
     ]
    }
   ],
   "source": [
    "# split the review data to training and test parts\n",
    "(training_r, test_r) = yelp_review.randomSplit([0.8, 0.2], seed=11)\n",
    "training_r.cache()\n",
    "test_r.cache()\n",
    "print('Number of partitions: ', training_r.rdd.getNumPartitions())\n",
    "print('Number of workers:', int(sc._conf.get('spark.executor.instances')))"
   ]
  },
  {
   "cell_type": "code",
   "execution_count": 4,
   "metadata": {},
   "outputs": [
    {
     "data": {
      "text/plain": [
       "102383"
      ]
     },
     "execution_count": 4,
     "metadata": {},
     "output_type": "execute_result"
    }
   ],
   "source": [
    "yelp_review.count()"
   ]
  },
  {
   "cell_type": "code",
   "execution_count": 5,
   "metadata": {},
   "outputs": [
    {
     "data": {
      "text/plain": [
       "81978"
      ]
     },
     "execution_count": 5,
     "metadata": {},
     "output_type": "execute_result"
    }
   ],
   "source": [
    "training_r.count()"
   ]
  },
  {
   "cell_type": "code",
   "execution_count": 6,
   "metadata": {},
   "outputs": [
    {
     "data": {
      "text/plain": [
       "20405"
      ]
     },
     "execution_count": 6,
     "metadata": {},
     "output_type": "execute_result"
    }
   ],
   "source": [
    "test_r.count()"
   ]
  },
  {
   "cell_type": "code",
   "execution_count": 7,
   "metadata": {},
   "outputs": [],
   "source": [
    "# Construct a dataframe for users with necessary information (average ratings and review counts)\n",
    "yelp_user = yelp_review.select(\"user_id\").distinct()\n",
    "yelp_user = yelp_user.join(training_r.groupBy(\"user_id\").avg(\"stars\").withColumnRenamed(\"avg(stars)\", \"avg_stars\"), \"user_id\", \"left\").\\\n",
    "                  join(training_r.groupBy(\"user_id\").count().withColumnRenamed(\"count\", \"review_count\"), \"user_id\", \"left\").na.fill(0)"
   ]
  },
  {
   "cell_type": "code",
   "execution_count": 8,
   "metadata": {},
   "outputs": [
    {
     "name": "stdout",
     "output_type": "stream",
     "text": [
      "+--------------------+---------+------------+\n",
      "|             user_id|avg_stars|review_count|\n",
      "+--------------------+---------+------------+\n",
      "|IJfkwQf8Ad-Q9XKVc...|      3.0|           1|\n",
      "|p6jrAZRs7bsknyujw...|      5.0|           3|\n",
      "|U8Jsf4RO5kSAS0ahr...|      5.0|           2|\n",
      "|DwVgF-OAfqIoBd1fa...|      3.0|           2|\n",
      "|Zuop-axbyA7atet3p...|      4.0|           1|\n",
      "+--------------------+---------+------------+\n",
      "only showing top 5 rows\n",
      "\n"
     ]
    }
   ],
   "source": [
    "yelp_user.show(5)"
   ]
  },
  {
   "cell_type": "code",
   "execution_count": 9,
   "metadata": {},
   "outputs": [
    {
     "data": {
      "text/plain": [
       "44780"
      ]
     },
     "execution_count": 9,
     "metadata": {},
     "output_type": "execute_result"
    }
   ],
   "source": [
    "yelp_user.count()"
   ]
  },
  {
   "cell_type": "code",
   "execution_count": 10,
   "metadata": {},
   "outputs": [],
   "source": [
    "# Construct a dataframe for businesses with necessary information (average ratings and review counts)\n",
    "yelp_business = yelp_review.select(\"business_id\").distinct()\n",
    "yelp_business = yelp_business.join(training_r.groupBy(\"business_id\").avg(\"stars\").withColumnRenamed(\"avg(stars)\", \"avg_stars\"), \"business_id\", \"left\").\\\n",
    "                  join(training_r.groupBy(\"business_id\").count().withColumnRenamed(\"count\", \"review_count\"), \"business_id\", \"left\").na.fill(0)"
   ]
  },
  {
   "cell_type": "code",
   "execution_count": 11,
   "metadata": {},
   "outputs": [
    {
     "name": "stdout",
     "output_type": "stream",
     "text": [
      "+--------------------+------------------+------------+\n",
      "|         business_id|         avg_stars|review_count|\n",
      "+--------------------+------------------+------------+\n",
      "|-36nnCT71XE0InJXK...|1.9565217391304348|          23|\n",
      "|18zCSuupFXh6wIygX...| 4.140845070422535|         142|\n",
      "|3l-DALnAnPVKndBbz...|              3.04|          50|\n",
      "|OlWIKiqL6wUGjK6Do...|               4.0|          26|\n",
      "|W3Pv_BO9BShN-4cHe...|3.7777777777777777|          36|\n",
      "+--------------------+------------------+------------+\n",
      "only showing top 5 rows\n",
      "\n"
     ]
    }
   ],
   "source": [
    "yelp_business.show(5)"
   ]
  },
  {
   "cell_type": "code",
   "execution_count": 12,
   "metadata": {},
   "outputs": [
    {
     "data": {
      "text/plain": [
       "1589"
      ]
     },
     "execution_count": 12,
     "metadata": {},
     "output_type": "execute_result"
    }
   ],
   "source": [
    "yelp_business.count()"
   ]
  },
  {
   "cell_type": "code",
   "execution_count": 13,
   "metadata": {},
   "outputs": [
    {
     "name": "stdout",
     "output_type": "stream",
     "text": [
      "('Average number of reviews of users: ', 2.2863555158552926)\n",
      "('Average number of reviews of businesses: ', 64.43234738829453)\n"
     ]
    }
   ],
   "source": [
    "# look at the degree of sparseness\n",
    "print(\"Average number of reviews of users: \", float(yelp_review.count())/float(yelp_user.count()))\n",
    "print(\"Average number of reviews of businesses: \", float(yelp_review.count())/float(yelp_business.count()))"
   ]
  },
  {
   "cell_type": "markdown",
   "metadata": {},
   "source": [
    "## Derive the similarities betweem pairs of businesses"
   ]
  },
  {
   "cell_type": "code",
   "execution_count": 14,
   "metadata": {},
   "outputs": [],
   "source": [
    "# \"U\" is the prefix for user id and \"B\" is the prefix for business id to make the vertex ids unique \n",
    "# (i.e. to avoid an user id with the same value of a business id)\n",
    "bt = yelp_business.rdd.map(lambda r: Row(business_id=r.business_id, total_bstars=r.avg_stars*r.review_count)).toDF()\n",
    "ut = yelp_user.rdd.map(lambda r: Row(user_id=r.user_id, total_ustars=r.avg_stars*r.review_count)).toDF()\n",
    "\n",
    "review_with_info = training_r.join(ut, \"user_id\", \"left\").join(bt, \"business_id\", \"left\")\\\n",
    "                               .rdd.map(lambda r: Row(user_info=[\"U\"+str(r.user_id), r.total_ustars], business_id=\"B\"+str(r.business_id), total_bstars=r.total_bstars, \\\n",
    "                                stars=r.stars)).toDF()"
   ]
  },
  {
   "cell_type": "code",
   "execution_count": 15,
   "metadata": {},
   "outputs": [
    {
     "name": "stdout",
     "output_type": "stream",
     "text": [
      "+--------------------+-----+------------+--------------------+\n",
      "|         business_id|stars|total_bstars|           user_info|\n",
      "+--------------------+-----+------------+--------------------+\n",
      "|B-36nnCT71XE0InJX...|  1.0|        45.0|[UwQkvbIqEuTOLNg-...|\n",
      "|B-36nnCT71XE0InJX...|  1.0|        45.0|[UAsG6oQm4msBBHGk...|\n",
      "|B-36nnCT71XE0InJX...|  1.0|        45.0|[UilvHx5hnf7mnaVw...|\n",
      "|B-36nnCT71XE0InJX...|  5.0|        45.0|[UI9YnU0WPIDrAZNM...|\n",
      "|B-36nnCT71XE0InJX...|  1.0|        45.0|[UofyOSbE04KsDt7e...|\n",
      "+--------------------+-----+------------+--------------------+\n",
      "only showing top 5 rows\n",
      "\n"
     ]
    }
   ],
   "source": [
    "review_with_info.show(5)"
   ]
  },
  {
   "cell_type": "code",
   "execution_count": 16,
   "metadata": {},
   "outputs": [
    {
     "data": {
      "text/plain": [
       "81978"
      ]
     },
     "execution_count": 16,
     "metadata": {},
     "output_type": "execute_result"
    }
   ],
   "source": [
    "review_with_info.count()"
   ]
  },
  {
   "cell_type": "code",
   "execution_count": 17,
   "metadata": {},
   "outputs": [
    {
     "name": "stdout",
     "output_type": "stream",
     "text": [
      "+--------------------+--------------------+--------+-----------------+--------------------+--------+-----------------+\n",
      "|           user_info|               b1_id|b1_stars|  b1_total_bstars|               b2_id|b2_stars|  b2_total_bstars|\n",
      "+--------------------+--------------------+--------+-----------------+--------------------+--------+-----------------+\n",
      "|[U-933LjXpSOX57wO...|B7DQjIVYGvcv2g31m...|     5.0|608.9999999999999|B7DQjIVYGvcv2g31m...|     5.0|608.9999999999999|\n",
      "|[U-DUBZFaADuQxYh1...|BJmyyYki9NlQtjcc6...|     5.0|            352.0|BtJTO7Vlt6Zuke1LO...|     4.0|            387.0|\n",
      "|[U-DUBZFaADuQxYh1...|BJmyyYki9NlQtjcc6...|     5.0|            352.0|BBDX4VYxx_DpuAEnN...|     4.0|           1052.0|\n",
      "|[U-DUBZFaADuQxYh1...|BJmyyYki9NlQtjcc6...|     5.0|            352.0|BJmyyYki9NlQtjcc6...|     5.0|            352.0|\n",
      "|[U-DUBZFaADuQxYh1...|BtJTO7Vlt6Zuke1LO...|     4.0|            387.0|BtJTO7Vlt6Zuke1LO...|     4.0|            387.0|\n",
      "+--------------------+--------------------+--------+-----------------+--------------------+--------+-----------------+\n",
      "only showing top 5 rows\n",
      "\n"
     ]
    }
   ],
   "source": [
    "df_as1 = review_with_info.withColumnRenamed(\"business_id\", \"b1_id\").\\\n",
    "               withColumnRenamed(\"stars\", \"b1_stars\").withColumnRenamed(\"total_bstars\", \"b1_total_bstars\")\n",
    "df_as2 = review_with_info.withColumnRenamed(\"business_id\", \"b2_id\").\\\n",
    "               withColumnRenamed(\"stars\", \"b2_stars\").withColumnRenamed(\"total_bstars\", \"b2_total_bstars\")\n",
    "bpairs = df_as1.join(df_as2, \"user_info\")\n",
    "bpairs.show(5)"
   ]
  },
  {
   "cell_type": "code",
   "execution_count": 18,
   "metadata": {},
   "outputs": [
    {
     "data": {
      "text/plain": [
       "681124"
      ]
     },
     "execution_count": 18,
     "metadata": {},
     "output_type": "execute_result"
    }
   ],
   "source": [
    "bpairs.count()"
   ]
  },
  {
   "cell_type": "code",
   "execution_count": 19,
   "metadata": {},
   "outputs": [],
   "source": [
    "# Calculating the recommendation power\n",
    "def RecommendPower(row):\n",
    "    rp = (row.b1_stars*row.b2_stars)/(row.b1_total_bstars*float(row.user_info[1]))\n",
    "    return Row(b1_id=row.b1_id, b2_id=row.b2_id, rp=rp)"
   ]
  },
  {
   "cell_type": "code",
   "execution_count": 20,
   "metadata": {},
   "outputs": [
    {
     "name": "stdout",
     "output_type": "stream",
     "text": [
      "+--------------------+--------------------+--------------------+\n",
      "|               b1_id|               b2_id|                  rp|\n",
      "+--------------------+--------------------+--------------------+\n",
      "|B7DQjIVYGvcv2g31m...|B7DQjIVYGvcv2g31m...|0.008210180623973728|\n",
      "|BJmyyYki9NlQtjcc6...|BJmyyYki9NlQtjcc6...|0.005463286713286713|\n",
      "|BJmyyYki9NlQtjcc6...|BBDX4VYxx_DpuAEnN...|0.004370629370629371|\n",
      "|BJmyyYki9NlQtjcc6...|BtJTO7Vlt6Zuke1LO...|0.004370629370629371|\n",
      "|BtJTO7Vlt6Zuke1LO...|BJmyyYki9NlQtjcc6...|0.003975352812562...|\n",
      "+--------------------+--------------------+--------------------+\n",
      "only showing top 5 rows\n",
      "\n"
     ]
    }
   ],
   "source": [
    "bpairs_withrp = bpairs.rdd.map(RecommendPower).toDF()\n",
    "bpairs_withrp.show(5)"
   ]
  },
  {
   "cell_type": "code",
   "execution_count": 21,
   "metadata": {},
   "outputs": [
    {
     "name": "stdout",
     "output_type": "stream",
     "text": [
      "+--------------------+--------------------+--------------------+\n",
      "|               b1_id|               b2_id|          similarity|\n",
      "+--------------------+--------------------+--------------------+\n",
      "|B7B8xSsrJyaduoLBa...|B5ujD30qvzMUYDkp7...|0.002066400330624053|\n",
      "|Bh9HSiYDrIiLDiXox...|Bh9HSiYDrIiLDiXox...| 0.25836680637159176|\n",
      "|BQh477Dag_gSdzaIL...|BBMoxh2zG5lVDADDz...|2.554278416347382E-4|\n",
      "|B8DyJnIx3zYu3riHg...|B-cmLahbAhCgi-Zw2...|4.191886544827721...|\n",
      "|BeTjaXgajoYKVt-O3...|Bn0lX7M9A_YqEFq8C...|0.002419538056270...|\n",
      "+--------------------+--------------------+--------------------+\n",
      "only showing top 5 rows\n",
      "\n"
     ]
    }
   ],
   "source": [
    "# Now we add all the recommend power for each pair of businesses and get the similarity \n",
    "business_similarity = bpairs_withrp.groupBy([\"b1_id\", \"b2_id\"]).sum(\"rp\").withColumnRenamed(\"sum(rp)\", \"similarity\")\n",
    "business_similarity.show(5)"
   ]
  },
  {
   "cell_type": "code",
   "execution_count": 22,
   "metadata": {},
   "outputs": [
    {
     "data": {
      "text/plain": [
       "371653"
      ]
     },
     "execution_count": 22,
     "metadata": {},
     "output_type": "execute_result"
    }
   ],
   "source": [
    "# Note that the number of pairs now is less than 1589^2 because lots of pairs of businesses do not have similarities, i.e. similarity=0.\n",
    "business_similarity.count()"
   ]
  },
  {
   "cell_type": "markdown",
   "metadata": {},
   "source": [
    "## Build the Bipartite Graph"
   ]
  },
  {
   "cell_type": "code",
   "execution_count": 25,
   "metadata": {},
   "outputs": [],
   "source": [
    "# \"U\" is the prefix for user id and \"B\" is the prefix for business id to make the vertex ids unique \n",
    "# (i.e. to avoid an user id with the same value of a business id)\n",
    "businessVertices = yelp_business.rdd.map(lambda r: Row(id=\"B\"+str(r.business_id), vtype=\"business\", avg_stars=r.avg_stars, review_count=r.review_count)).toDF()\n",
    "userVertices = yelp_user.rdd.map(lambda r: Row(id=\"U\"+str(r.user_id), vtype=\"user\", avg_stars=r.avg_stars, review_count=r.review_count)).toDF()\n",
    "\n",
    "# Pack the businesses' information into edges for the prediction part!\n",
    "reviewEdges = training_r.join(yelp_user, \"user_id\", \"left\")\\\n",
    "                      .rdd.map(lambda r: Row(src=\"U\"+str(r.user_id),dst=\"B\"+str(r.business_id), \\\n",
    "                        bstars=[\"B\"+str(r.business_id), r.stars])).toDF()\n",
    "    \n",
    "# build the graph\n",
    "bipartiteVertices = userVertices.unionAll(businessVertices)\n",
    "bipartiteGraph = GraphFrame(bipartiteVertices, reviewEdges)"
   ]
  },
  {
   "cell_type": "code",
   "execution_count": 26,
   "metadata": {},
   "outputs": [
    {
     "data": {
      "text/plain": [
       "81978"
      ]
     },
     "execution_count": 26,
     "metadata": {},
     "output_type": "execute_result"
    }
   ],
   "source": [
    "reviewEdges.count()"
   ]
  },
  {
   "cell_type": "markdown",
   "metadata": {},
   "source": [
    "## The weighted Bipartite Graph Projection"
   ]
  },
  {
   "cell_type": "code",
   "execution_count": 27,
   "metadata": {},
   "outputs": [
    {
     "name": "stdout",
     "output_type": "stream",
     "text": [
      "+--------------------+--------------------+--------------------+-----------------+\n",
      "|               b2_id|               b1_id|          similarity|     b2_avg_stars|\n",
      "+--------------------+--------------------+--------------------+-----------------+\n",
      "|B9ptGBKGZ5oF_y-Ab...|BnU-S7XRc14kT1wNM...|0.001564945226917058|4.636363636363637|\n",
      "|B9ptGBKGZ5oF_y-Ab...|BYEsYXr38-1sdjroe...|0.001061841658171...|4.636363636363637|\n",
      "|B9ptGBKGZ5oF_y-Ab...|BoP4JpYJ56vfJMrMR...| 9.92063492063492E-4|4.636363636363637|\n",
      "|B9ptGBKGZ5oF_y-Ab...|BlD-xYJUeOa293piQ...|6.105006105006105E-4|4.636363636363637|\n",
      "|B9ptGBKGZ5oF_y-Ab...|BUH0U_RfNjYeNHY0O...|0.002986857825567503|4.636363636363637|\n",
      "+--------------------+--------------------+--------------------+-----------------+\n",
      "only showing top 5 rows\n",
      "\n"
     ]
    }
   ],
   "source": [
    "# Add the business_2's average stars to the dataframe for further use\n",
    "business_similarity = business_similarity.join(businessVertices.select(\"id\", \"avg_stars\").\\\n",
    "                         withColumnRenamed(\"id\", \"b2_id\").withColumnRenamed(\"avg_stars\", \"b2_avg_stars\"), \"b2_id\", \"left\")\n",
    "business_similarity.show(5)"
   ]
  },
  {
   "cell_type": "code",
   "execution_count": 28,
   "metadata": {},
   "outputs": [],
   "source": [
    "# Now we construct the weighted Bipartite Graph Projection for the business set where the weights are similarities between businesses\n",
    "# Pack the business_2's information into edges for the prediction part!\n",
    "weightEdges = business_similarity.rdd.map(lambda r: Row(src=r.b1_id, dst=r.b2_id, sim=[r.b2_id, r.b2_avg_stars, r.similarity])).toDF()\n",
    "\n",
    "# build the graph\n",
    "BGprojection = GraphFrame(businessVertices, weightEdges)"
   ]
  },
  {
   "cell_type": "code",
   "execution_count": 29,
   "metadata": {},
   "outputs": [],
   "source": [
    "# Add the prefix \"U\" and \"B\" to match the columns in the graph\n",
    "testr_withprefix = test_r.rdd.map(lambda r: Row(business_id=\"B\"+str(r.business_id), user_id=\"U\"+str(r.user_id), stars=r.stars)).toDF()"
   ]
  },
  {
   "cell_type": "code",
   "execution_count": 30,
   "metadata": {},
   "outputs": [],
   "source": [
    "# aggregateMessages for similarities\n",
    "msgtoSrc = AM.edge['sim']\n",
    "testr_withsim = BGprojection.aggregateMessages\\\n",
    "                            (collect_list(AM.msg).alias('sim_list'), sendToSrc=msgtoSrc).withColumnRenamed(\"id\", \"business_id\").\\\n",
    "                            join(testr_withprefix, \"business_id\", \"right\").\\\n",
    "                            join(businessVertices.select(\"id\", \"avg_stars\").withColumnRenamed(\"id\", \"business_id\"), \"business_id\", \"left\")"
   ]
  },
  {
   "cell_type": "code",
   "execution_count": 31,
   "metadata": {},
   "outputs": [
    {
     "name": "stdout",
     "output_type": "stream",
     "text": [
      "+--------------------+--------------------+-----+--------------------+-----------------+\n",
      "|         business_id|            sim_list|stars|             user_id|        avg_stars|\n",
      "+--------------------+--------------------+-----+--------------------+-----------------+\n",
      "|B9ptGBKGZ5oF_y-Ab...|[[B9ptGBKGZ5oF_y-...|  5.0|U-aT-w7qFF8UsYApn...|4.636363636363637|\n",
      "|B9ptGBKGZ5oF_y-Ab...|[[B9ptGBKGZ5oF_y-...|  5.0|UEG0Y2P0QhoHl-Z3_...|4.636363636363637|\n",
      "|B9ptGBKGZ5oF_y-Ab...|[[B9ptGBKGZ5oF_y-...|  5.0|UQ8Z6ge1g1UQOms7I...|4.636363636363637|\n",
      "|B9ptGBKGZ5oF_y-Ab...|[[B9ptGBKGZ5oF_y-...|  5.0|UYzH5nTagxL2C0Sqa...|4.636363636363637|\n",
      "|B9ptGBKGZ5oF_y-Ab...|[[B9ptGBKGZ5oF_y-...|  5.0|UtkuxxQHPPHwZgf6i...|4.636363636363637|\n",
      "+--------------------+--------------------+-----+--------------------+-----------------+\n",
      "only showing top 5 rows\n",
      "\n"
     ]
    }
   ],
   "source": [
    "testr_withsim.show(5)"
   ]
  },
  {
   "cell_type": "code",
   "execution_count": 32,
   "metadata": {},
   "outputs": [],
   "source": [
    "# aggregateMessages for br_lists\n",
    "msgtoSrc = AM.edge['bstars']\n",
    "testr_withsimbr = bipartiteGraph.aggregateMessages\\\n",
    "                            (collect_list(AM.msg).alias('br_list'), sendToSrc=msgtoSrc).withColumnRenamed(\"id\", \"user_id\").\\\n",
    "                            join(testr_withsim, \"user_id\", \"right\")"
   ]
  },
  {
   "cell_type": "code",
   "execution_count": 33,
   "metadata": {},
   "outputs": [
    {
     "name": "stdout",
     "output_type": "stream",
     "text": [
      "+--------------------+--------------------+--------------------+--------------------+-----+-----------------+\n",
      "|             user_id|             br_list|         business_id|            sim_list|stars|        avg_stars|\n",
      "+--------------------+--------------------+--------------------+--------------------+-----+-----------------+\n",
      "|U0-jGGeSVW9EMS607...|[[BM6Iud4p9KO01KT...|BOtgtzNydhtwNR0EC...|[[BeU-DrRN9ZSWtFX...|  5.0|4.482758620689655|\n",
      "|U2lMVWQYWb-_Wpj7C...|[[Bs9_U99yktaNqjD...|BRJBCFf7Ov6dRguTr...|[[Bk0KhcOuhXxxrsW...|  2.0|3.871212121212121|\n",
      "|U2lMVWQYWb-_Wpj7C...|[[Bs9_U99yktaNqjD...|BnoE7D1xm8USfNJY6...|[[Bbzny-7M_JjYHsK...|  3.0|4.212765957446808|\n",
      "|U2lMVWQYWb-_Wpj7C...|[[Bs9_U99yktaNqjD...|BbObINYi8__KgdWnc...|[[Bvty9cDLZpwSTkH...|  3.0|              4.4|\n",
      "|U2m6cfArIoaGquQuM...|                null|BEeAczDPkCXbjHt2R...|[[BHGWLckLMDjP4hB...|  4.0|4.232558139534884|\n",
      "+--------------------+--------------------+--------------------+--------------------+-----+-----------------+\n",
      "only showing top 5 rows\n",
      "\n"
     ]
    }
   ],
   "source": [
    "testr_withsimbr.show(5)"
   ]
  },
  {
   "cell_type": "code",
   "execution_count": 34,
   "metadata": {},
   "outputs": [],
   "source": [
    "# predict the ratings\n",
    "def Prediction(row):\n",
    "    pred = row.avg_stars\n",
    "    if (row.sim_list is not None and row.br_list is not None):\n",
    "        for i in range(len(row.sim_list)):\n",
    "            for j in range(len(row.br_list)):\n",
    "                if row.sim_list[i][0] == row.br_list[j][0]:\n",
    "                    pred += float(row.sim_list[i][2])*(float(row.br_list[j][1])-float(row.sim_list[i][1]))\n",
    "    return Row(business_id=row.business_id, user_id=row.user_id, actual_stars=row.stars, pred_stars=pred)"
   ]
  },
  {
   "cell_type": "code",
   "execution_count": 35,
   "metadata": {},
   "outputs": [
    {
     "name": "stdout",
     "output_type": "stream",
     "text": [
      "+------------+--------------------+-----------------+--------------------+\n",
      "|actual_stars|         business_id|       pred_stars|             user_id|\n",
      "+------------+--------------------+-----------------+--------------------+\n",
      "|         5.0|BOtgtzNydhtwNR0EC...|4.482758620689655|U0-jGGeSVW9EMS607...|\n",
      "|         3.0|BbObINYi8__KgdWnc...|4.388206986694272|U2lMVWQYWb-_Wpj7C...|\n",
      "|         2.0|BRJBCFf7Ov6dRguTr...|3.869973103784599|U2lMVWQYWb-_Wpj7C...|\n",
      "|         3.0|BnoE7D1xm8USfNJY6...|4.219260264248601|U2lMVWQYWb-_Wpj7C...|\n",
      "|         4.0|BEeAczDPkCXbjHt2R...|4.232558139534884|U2m6cfArIoaGquQuM...|\n",
      "+------------+--------------------+-----------------+--------------------+\n",
      "only showing top 5 rows\n",
      "\n"
     ]
    }
   ],
   "source": [
    "#Finally, we get the predictions.\n",
    "result = testr_withsimbr.rdd.map(Prediction).toDF()\n",
    "result.show(5)"
   ]
  },
  {
   "cell_type": "code",
   "execution_count": 36,
   "metadata": {},
   "outputs": [
    {
     "name": "stdout",
     "output_type": "stream",
     "text": [
      "Root-mean-square error = 1.41038292864\n"
     ]
    }
   ],
   "source": [
    "# evaluate the RMSE\n",
    "evaluator = RegressionEvaluator(metricName=\"rmse\", labelCol=\"actual_stars\", predictionCol=\"pred_stars\")\n",
    "rmse = evaluator.evaluate(result)\n",
    "print(\"Root-mean-square error = \" + str(rmse))"
   ]
  },
  {
   "cell_type": "code",
   "execution_count": null,
   "metadata": {},
   "outputs": [],
   "source": []
  }
 ],
 "metadata": {
  "kernelspec": {
   "display_name": "PySpark",
   "language": "python",
   "name": "pyspark"
  },
  "language_info": {
   "codemirror_mode": {
    "name": "ipython",
    "version": 2
   },
   "file_extension": ".py",
   "mimetype": "text/x-python",
   "name": "python",
   "nbconvert_exporter": "python",
   "pygments_lexer": "ipython2",
   "version": "2.7.14"
  }
 },
 "nbformat": 4,
 "nbformat_minor": 2
}
