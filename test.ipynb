{
 "cells": [
  {
   "cell_type": "markdown",
   "metadata": {},
   "source": [
    "## Look at the data"
   ]
  },
  {
   "cell_type": "code",
   "execution_count": 1,
   "metadata": {},
   "outputs": [],
   "source": [
    "#Add the current path into the system path\n",
    "import sys,os\n",
    "curPath = os.path.abspath(os.path.dirname(\"/home/murrawang/\"))\n",
    "sys.path.append(curPath)\n",
    "\n",
    "# Import necessary libraries\n",
    "from pyspark.sql import SQLContext\n",
    "import graphframes\n",
    "from graphframes import *\n",
    "from AggregateMessages import *\n",
    "\n",
    "import matplotlib.pyplot as plt\n",
    "%matplotlib inline\n",
    "\n",
    "from pyspark.sql.functions import col, lit, when, avg, collect_list, mean\n",
    "from pyspark.sql import Row\n",
    "\n",
    "from datetime import datetime\n",
    "import numpy as np\n",
    "\n",
    "from pyspark.ml.evaluation import RegressionEvaluator\n",
    "from pyspark.ml.recommendation import ALS"
   ]
  },
  {
   "cell_type": "code",
   "execution_count": 24,
   "metadata": {
    "scrolled": false
   },
   "outputs": [
    {
     "data": {
      "text/plain": [
       "[(Row(state=u'IL'), 1),\n",
       " (Row(state=u'AZ'), 2),\n",
       " (Row(state=u'VA'), 2),\n",
       " (Row(state=u'ON'), 2),\n",
       " (Row(state=u'OR'), 25175),\n",
       " (Row(state=u'ABE'), 1),\n",
       " (Row(state=u'MN'), 1),\n",
       " (Row(state=u'BC'), 17298),\n",
       " (Row(state=u'NM'), 1),\n",
       " (Row(state=u'NC'), 1),\n",
       " (Row(state=u'NY'), 2),\n",
       " (Row(state=u'OH'), 11258),\n",
       " (Row(state=u'DE'), 1),\n",
       " (Row(state=u'DC'), 1),\n",
       " (Row(state=u'HI'), 1),\n",
       " (Row(state=u'AL'), 1),\n",
       " (Row(state=u'KY'), 1),\n",
       " (Row(state=u'NH'), 4),\n",
       " (Row(state=u'GA'), 18090),\n",
       " (Row(state=u'MA'), 36012),\n",
       " (Row(state=u'FL'), 21907),\n",
       " (Row(state=u'WY'), 1),\n",
       " (Row(state=u'CO'), 3198),\n",
       " (Row(state=u'CA'), 13),\n",
       " (Row(state=u'KS'), 1),\n",
       " (Row(state=u'TX'), 24485),\n",
       " (Row(state=u'ME'), 1),\n",
       " (Row(state=u'MI'), 1),\n",
       " (Row(state=u'OK'), 1),\n",
       " (Row(state=u'WI'), 1),\n",
       " (Row(state=u'WA'), 3121)]"
      ]
     },
     "execution_count": 24,
     "metadata": {},
     "output_type": "execute_result"
    }
   ],
   "source": [
    "#Yelp business data\n",
    "business_path = \"hdfs:///yelp/yelp_academic_dataset_business.json\"\n",
    "yelp_business = spark.read.json(business_path)\n",
    "# Check which states Yelp concentrates on\n",
    "yelp_business.select(\"state\").rdd.map(lambda x: (x, 1)).reduceByKey(lambda x,y : x+y).collect()"
   ]
  },
  {
   "cell_type": "code",
   "execution_count": 25,
   "metadata": {},
   "outputs": [
    {
     "name": "stdout",
     "output_type": "stream",
     "text": [
      "+--------------------+--------------------+--------------------+--------------------+---------+--------------------+-------+-------------+---------------+--------------------+-----------+------------+-----+-----+\n",
      "|             address|          attributes|         business_id|          categories|     city|               hours|is_open|     latitude|      longitude|                name|postal_code|review_count|stars|state|\n",
      "+--------------------+--------------------+--------------------+--------------------+---------+--------------------+-------+-------------+---------------+--------------------+-----------+------------+-----+-----+\n",
      "|1919 SE Columbia ...|[,, 'full_bar', {...|R8fLQ6TLz06MQR69K...|Bars, Pizza, Amer...|Vancouver|[11:0-22:0, 0:0-0...|      1|   45.6148087|   -122.6520268|Beaches Restauran...|      98661|         719|  3.5|   WA|\n",
      "|204 SE Park Plaza...|[,, 'beer_and_win...|0ipN94g6plg9LZIsD...|Noodles, Restaura...|Vancouver|[11:0-21:0, 0:0-0...|      1|   45.6197591|   -122.5399554|Kenji's Ramen & G...|      98684|         657|  4.0|   WA|\n",
      "|       213 W 11th St|[,, u'full_bar', ...|JkhXi-3RJtmUTlkjr...|Restaurants, Nigh...|Vancouver|[11:0-22:30, 10:3...|      1|   45.6295205|   -122.6728246|Thai Orchid Resta...|      98660|         636|  4.0|   WA|\n",
      "|5000 E 4th Plain ...|[,, u'beer_and_wi...|IMYh4LJm1ubY5Lw3r...|Diners, Seafood, ...|Vancouver|[11:0-21:0, 0:0-0...|      1|45.6412270338|-122.6175698488|    Thai Wok Kitchen|      98661|         556|  4.5|   WA|\n",
      "|  101 E Columbia Way|[,, 'full_bar', {...|ItVN3K0xIFdIiu5dk...|Seafood, American...|Vancouver|[12:0-20:0, 0:0-0...|      0|45.6209771132|   -122.6715666|    Joe's Crab Shack|      98661|         550|  3.0|   WA|\n",
      "+--------------------+--------------------+--------------------+--------------------+---------+--------------------+-------+-------------+---------------+--------------------+-----------+------------+-----+-----+\n",
      "only showing top 5 rows\n",
      "\n"
     ]
    }
   ],
   "source": [
    "# Here I select businesses in Washington state\n",
    "yelp_business = yelp_business.filter(yelp_business[\"state\"] == \"WA\").sort(\"review_count\", ascending=False).limit(100)\n",
    "yelp_business.show(5)"
   ]
  },
  {
   "cell_type": "code",
   "execution_count": 4,
   "metadata": {
    "scrolled": true
   },
   "outputs": [
    {
     "name": "stdout",
     "output_type": "stream",
     "text": [
      "root\n",
      " |-- address: string (nullable = true)\n",
      " |-- attributes: struct (nullable = true)\n",
      " |    |-- AcceptsInsurance: string (nullable = true)\n",
      " |    |-- AgesAllowed: string (nullable = true)\n",
      " |    |-- Alcohol: string (nullable = true)\n",
      " |    |-- Ambience: string (nullable = true)\n",
      " |    |-- BYOB: string (nullable = true)\n",
      " |    |-- BYOBCorkage: string (nullable = true)\n",
      " |    |-- BestNights: string (nullable = true)\n",
      " |    |-- BikeParking: string (nullable = true)\n",
      " |    |-- BusinessAcceptsBitcoin: string (nullable = true)\n",
      " |    |-- BusinessAcceptsCreditCards: string (nullable = true)\n",
      " |    |-- BusinessParking: string (nullable = true)\n",
      " |    |-- ByAppointmentOnly: string (nullable = true)\n",
      " |    |-- Caters: string (nullable = true)\n",
      " |    |-- CoatCheck: string (nullable = true)\n",
      " |    |-- Corkage: string (nullable = true)\n",
      " |    |-- DietaryRestrictions: string (nullable = true)\n",
      " |    |-- DogsAllowed: string (nullable = true)\n",
      " |    |-- DriveThru: string (nullable = true)\n",
      " |    |-- GoodForDancing: string (nullable = true)\n",
      " |    |-- GoodForKids: string (nullable = true)\n",
      " |    |-- GoodForMeal: string (nullable = true)\n",
      " |    |-- HairSpecializesIn: string (nullable = true)\n",
      " |    |-- HappyHour: string (nullable = true)\n",
      " |    |-- HasTV: string (nullable = true)\n",
      " |    |-- Music: string (nullable = true)\n",
      " |    |-- NoiseLevel: string (nullable = true)\n",
      " |    |-- Open24Hours: string (nullable = true)\n",
      " |    |-- OutdoorSeating: string (nullable = true)\n",
      " |    |-- RestaurantsAttire: string (nullable = true)\n",
      " |    |-- RestaurantsCounterService: string (nullable = true)\n",
      " |    |-- RestaurantsDelivery: string (nullable = true)\n",
      " |    |-- RestaurantsGoodForGroups: string (nullable = true)\n",
      " |    |-- RestaurantsPriceRange2: string (nullable = true)\n",
      " |    |-- RestaurantsReservations: string (nullable = true)\n",
      " |    |-- RestaurantsTableService: string (nullable = true)\n",
      " |    |-- RestaurantsTakeOut: string (nullable = true)\n",
      " |    |-- Smoking: string (nullable = true)\n",
      " |    |-- WheelchairAccessible: string (nullable = true)\n",
      " |    |-- WiFi: string (nullable = true)\n",
      " |-- business_id: string (nullable = true)\n",
      " |-- categories: string (nullable = true)\n",
      " |-- city: string (nullable = true)\n",
      " |-- hours: struct (nullable = true)\n",
      " |    |-- Friday: string (nullable = true)\n",
      " |    |-- Monday: string (nullable = true)\n",
      " |    |-- Saturday: string (nullable = true)\n",
      " |    |-- Sunday: string (nullable = true)\n",
      " |    |-- Thursday: string (nullable = true)\n",
      " |    |-- Tuesday: string (nullable = true)\n",
      " |    |-- Wednesday: string (nullable = true)\n",
      " |-- is_open: long (nullable = true)\n",
      " |-- latitude: double (nullable = true)\n",
      " |-- longitude: double (nullable = true)\n",
      " |-- name: string (nullable = true)\n",
      " |-- postal_code: string (nullable = true)\n",
      " |-- review_count: long (nullable = true)\n",
      " |-- stars: double (nullable = true)\n",
      " |-- state: string (nullable = true)\n",
      "\n"
     ]
    }
   ],
   "source": [
    "yelp_business.printSchema()"
   ]
  },
  {
   "cell_type": "code",
   "execution_count": 26,
   "metadata": {},
   "outputs": [
    {
     "data": {
      "text/plain": [
       "100"
      ]
     },
     "execution_count": 26,
     "metadata": {},
     "output_type": "execute_result"
    }
   ],
   "source": [
    "yelp_business.count()"
   ]
  },
  {
   "cell_type": "code",
   "execution_count": 27,
   "metadata": {},
   "outputs": [
    {
     "name": "stdout",
     "output_type": "stream",
     "text": [
      "+--------------------+--------------------+-----+\n",
      "|         business_id|             user_id|stars|\n",
      "+--------------------+--------------------+-----+\n",
      "|kwHcdJttuelU1TTZV...|cBRHJfnMDQOmQ5Wv8...|  5.0|\n",
      "|kwHcdJttuelU1TTZV...|fbOZSp-SSf01CXKLJ...|  5.0|\n",
      "|kwHcdJttuelU1TTZV...|wSsDhmy-4fGr_JDq3...|  5.0|\n",
      "|kwHcdJttuelU1TTZV...|NeTiqk1vFRE-UBDZq...|  5.0|\n",
      "|kwHcdJttuelU1TTZV...|VVy0yyu1CkzJcPI6s...|  4.0|\n",
      "+--------------------+--------------------+-----+\n",
      "only showing top 5 rows\n",
      "\n"
     ]
    }
   ],
   "source": [
    "#Yelp review data\n",
    "review_path = \"hdfs:///yelp/yelp_academic_dataset_review.json\"\n",
    "yelp_review = spark.read.json(review_path)\n",
    "# Here I only choose reviews on businesses in Washington state\n",
    "# I apply \"dropDuplicates\" so that a user only gives one review to a particular business, otherwise our prediction may \n",
    "# diverge since the sum of the similarities can exceed one.\n",
    "yelp_review = yelp_review.join(yelp_business, \"business_id\", \"right\").\\\n",
    "                    select(\"business_id\", \"user_id\", yelp_review.stars).dropDuplicates([\"business_id\", \"user_id\"])\n",
    "yelp_review.show(5)"
   ]
  },
  {
   "cell_type": "code",
   "execution_count": 28,
   "metadata": {},
   "outputs": [
    {
     "name": "stdout",
     "output_type": "stream",
     "text": [
      "root\n",
      " |-- business_id: string (nullable = true)\n",
      " |-- user_id: string (nullable = true)\n",
      " |-- stars: double (nullable = true)\n",
      "\n"
     ]
    }
   ],
   "source": [
    "yelp_review.printSchema()"
   ]
  },
  {
   "cell_type": "code",
   "execution_count": 29,
   "metadata": {},
   "outputs": [
    {
     "data": {
      "text/plain": [
       "31700"
      ]
     },
     "execution_count": 29,
     "metadata": {},
     "output_type": "execute_result"
    }
   ],
   "source": [
    "yelp_review.count()"
   ]
  },
  {
   "cell_type": "code",
   "execution_count": 30,
   "metadata": {},
   "outputs": [],
   "source": [
    "#save the review dataset\n",
    "yelp_review.write.save(\"hdfs:///yelp/yelp_review1.json\", format=\"json\")"
   ]
  },
  {
   "cell_type": "markdown",
   "metadata": {},
   "source": [
    "## Loading the small datasets"
   ]
  },
  {
   "cell_type": "code",
   "execution_count": 1,
   "metadata": {},
   "outputs": [],
   "source": [
    "#Add the current path into the system path\n",
    "import sys,os\n",
    "curPath = os.path.abspath(os.path.dirname(\"/home/murrawang/\"))\n",
    "sys.path.append(curPath)\n",
    "\n",
    "# Import necessary libraries\n",
    "from pyspark.sql import SQLContext\n",
    "import graphframes\n",
    "from graphframes import *\n",
    "from AggregateMessages import *\n",
    "\n",
    "import matplotlib.pyplot as plt\n",
    "%matplotlib inline\n",
    "\n",
    "from pyspark.sql.functions import col, lit, when, avg, collect_list, mean\n",
    "from pyspark.sql import Row\n",
    "\n",
    "from datetime import datetime\n",
    "import numpy as np\n",
    "\n",
    "from pyspark.ml.evaluation import RegressionEvaluator\n",
    "from pyspark.ml.recommendation import ALS"
   ]
  },
  {
   "cell_type": "code",
   "execution_count": 2,
   "metadata": {},
   "outputs": [],
   "source": [
    "#loading the target dataset\n",
    "review_path = \"hdfs:///yelp/yelp_review1.json\"\n",
    "yelp_review = spark.read.json(review_path)"
   ]
  },
  {
   "cell_type": "code",
   "execution_count": 3,
   "metadata": {},
   "outputs": [
    {
     "name": "stdout",
     "output_type": "stream",
     "text": [
      "('Number of partitions: ', 6)\n",
      "('Number of workers:', 2)\n"
     ]
    }
   ],
   "source": [
    "# split the review data to training and test parts\n",
    "(training_r, test_r) = yelp_review.randomSplit([0.8, 0.2], seed=11)\n",
    "training_r.cache()\n",
    "test_r.cache()\n",
    "print('Number of partitions: ', training_r.rdd.getNumPartitions())\n",
    "print('Number of workers:', int(sc._conf.get('spark.executor.instances')))"
   ]
  },
  {
   "cell_type": "code",
   "execution_count": 4,
   "metadata": {},
   "outputs": [
    {
     "data": {
      "text/plain": [
       "31700"
      ]
     },
     "execution_count": 4,
     "metadata": {},
     "output_type": "execute_result"
    }
   ],
   "source": [
    "yelp_review.count()"
   ]
  },
  {
   "cell_type": "code",
   "execution_count": 35,
   "metadata": {},
   "outputs": [
    {
     "data": {
      "text/plain": [
       "25464"
      ]
     },
     "execution_count": 35,
     "metadata": {},
     "output_type": "execute_result"
    }
   ],
   "source": [
    "training_r.count()"
   ]
  },
  {
   "cell_type": "code",
   "execution_count": 36,
   "metadata": {},
   "outputs": [
    {
     "data": {
      "text/plain": [
       "6236"
      ]
     },
     "execution_count": 36,
     "metadata": {},
     "output_type": "execute_result"
    }
   ],
   "source": [
    "test_r.count()"
   ]
  },
  {
   "cell_type": "code",
   "execution_count": 5,
   "metadata": {},
   "outputs": [],
   "source": [
    "# Construct a dataframe for users with necessary information (average ratings and review counts)\n",
    "yelp_user = yelp_review.select(\"user_id\").distinct()\n",
    "yelp_user = yelp_user.join(training_r.groupBy(\"user_id\").avg(\"stars\").withColumnRenamed(\"avg(stars)\", \"avg_stars\"), \"user_id\", \"left\").\\\n",
    "                  join(training_r.groupBy(\"user_id\").count().withColumnRenamed(\"count\", \"review_count\"), \"user_id\", \"left\").na.fill(0)"
   ]
  },
  {
   "cell_type": "code",
   "execution_count": 38,
   "metadata": {},
   "outputs": [
    {
     "name": "stdout",
     "output_type": "stream",
     "text": [
      "+--------------------+---------+------------+\n",
      "|             user_id|avg_stars|review_count|\n",
      "+--------------------+---------+------------+\n",
      "|bC95AAAR3aTHqZ7Mh...|      3.0|           1|\n",
      "|90xWufII45Dvk-_s9...|      5.0|           1|\n",
      "|bUgPFR3-6jB-BGZ6k...|      0.0|           0|\n",
      "|A3Rahgq3ufx81IjbE...|      3.0|           2|\n",
      "|WsdIdnGRnr3vI4CRh...|      5.0|           2|\n",
      "+--------------------+---------+------------+\n",
      "only showing top 5 rows\n",
      "\n"
     ]
    }
   ],
   "source": [
    "yelp_user.show(5)"
   ]
  },
  {
   "cell_type": "code",
   "execution_count": 39,
   "metadata": {},
   "outputs": [
    {
     "data": {
      "text/plain": [
       "19379"
      ]
     },
     "execution_count": 39,
     "metadata": {},
     "output_type": "execute_result"
    }
   ],
   "source": [
    "yelp_user.count()"
   ]
  },
  {
   "cell_type": "code",
   "execution_count": 6,
   "metadata": {},
   "outputs": [],
   "source": [
    "# Construct a dataframe for businesses with necessary information (average ratings and review counts)\n",
    "yelp_business = yelp_review.select(\"business_id\").distinct()\n",
    "yelp_business = yelp_business.join(training_r.groupBy(\"business_id\").avg(\"stars\").withColumnRenamed(\"avg(stars)\", \"avg_stars\"), \"business_id\", \"left\").\\\n",
    "                  join(training_r.groupBy(\"business_id\").count().withColumnRenamed(\"count\", \"review_count\"), \"business_id\", \"left\").na.fill(0)"
   ]
  },
  {
   "cell_type": "code",
   "execution_count": 41,
   "metadata": {},
   "outputs": [
    {
     "name": "stdout",
     "output_type": "stream",
     "text": [
      "+--------------------+------------------+------------+\n",
      "|         business_id|         avg_stars|review_count|\n",
      "+--------------------+------------------+------------+\n",
      "|kwHcdJttuelU1TTZV...|3.8520408163265305|         196|\n",
      "|oqr6tcO7fV32n5s4k...| 3.393939393939394|         198|\n",
      "|eY3-ZE8-njGOglACq...| 4.328813559322034|         295|\n",
      "|3XO0ZkbgRdLlLLDux...| 4.289752650176679|         283|\n",
      "|yeV3ECApOd1PSe9Zd...| 4.112903225806452|         186|\n",
      "+--------------------+------------------+------------+\n",
      "only showing top 5 rows\n",
      "\n"
     ]
    }
   ],
   "source": [
    "yelp_business.show(5)"
   ]
  },
  {
   "cell_type": "code",
   "execution_count": 42,
   "metadata": {},
   "outputs": [
    {
     "data": {
      "text/plain": [
       "100"
      ]
     },
     "execution_count": 42,
     "metadata": {},
     "output_type": "execute_result"
    }
   ],
   "source": [
    "yelp_business.count()"
   ]
  },
  {
   "cell_type": "code",
   "execution_count": 7,
   "metadata": {},
   "outputs": [
    {
     "name": "stdout",
     "output_type": "stream",
     "text": [
      "('Average number of reviews of users: ', 1.635791320501574)\n",
      "('Average number of reviews of businesses: ', 317.0)\n"
     ]
    }
   ],
   "source": [
    "# look at the degree of sparseness\n",
    "print(\"Average number of reviews of users: \", float(yelp_review.count())/float(yelp_user.count()))\n",
    "print(\"Average number of reviews of businesses: \", float(yelp_review.count())/float(yelp_business.count()))"
   ]
  },
  {
   "cell_type": "markdown",
   "metadata": {},
   "source": [
    "## Build the Bipartite Graph"
   ]
  },
  {
   "cell_type": "code",
   "execution_count": 8,
   "metadata": {},
   "outputs": [],
   "source": [
    "# \"U\" is the prefix for user id and \"B\" is the prefix for business id to make the vertex ids unique \n",
    "# (i.e. to avoid an user id with the same value of a business id)\n",
    "businessVertices = yelp_business.rdd.map(lambda r: Row(id=\"B\"+str(r.business_id), vtype=\"business\", avg_stars=r.avg_stars, review_count=r.review_count)).toDF()\n",
    "userVertices = yelp_user.rdd.map(lambda r: Row(id=\"U\"+str(r.user_id), vtype=\"user\", avg_stars=r.avg_stars, review_count=r.review_count)).toDF()\n",
    "\n",
    "# Pack the users' information into edges for further use! (calculate the similarity)\n",
    "# Pack the businesses' information into edges for the prediction part!\n",
    "reviewEdges = training_r.join(yelp_user, \"user_id\", \"left\")\\\n",
    "                      .rdd.map(lambda r: Row(src=\"U\"+str(r.user_id),dst=\"B\"+str(r.business_id), \\\n",
    "                       ustars=[\"U\"+str(r.user_id), r.avg_stars*r.review_count, r.stars], \\\n",
    "                        bstars=[\"B\"+str(r.business_id), r.stars])).toDF()\n",
    "    \n",
    "# build the graph\n",
    "bipartiteVertices = userVertices.unionAll(businessVertices)\n",
    "bipartiteGraph = GraphFrame(bipartiteVertices, reviewEdges)"
   ]
  },
  {
   "cell_type": "code",
   "execution_count": 45,
   "metadata": {},
   "outputs": [
    {
     "data": {
      "text/plain": [
       "25464"
      ]
     },
     "execution_count": 45,
     "metadata": {},
     "output_type": "execute_result"
    }
   ],
   "source": [
    "reviewEdges.count()"
   ]
  },
  {
   "cell_type": "code",
   "execution_count": 9,
   "metadata": {},
   "outputs": [],
   "source": [
    "# aggregateMessages\n",
    "msgtoDst = AM.edge['ustars']\n",
    "business_withur = bipartiteGraph.aggregateMessages\\\n",
    "                            (collect_list(AM.msg).alias('ur_list'), sendToDst=msgtoDst).join(businessVertices, \"id\")"
   ]
  },
  {
   "cell_type": "code",
   "execution_count": 10,
   "metadata": {
    "scrolled": true
   },
   "outputs": [],
   "source": [
    "# Create pairs of businesses\n",
    "yelp_business1 = business_withur.rdd.map(lambda r: \\\n",
    "                    Row(b1_id=r.id, b1_avg_stars=r.avg_stars, b1_review_count=r.review_count, b1_urlist=r.ur_list, dummy=1)).toDF()\n",
    "yelp_business2 = business_withur.rdd.map(lambda r: \\\n",
    "                    Row(b2_id=r.id, b2_avg_stars=r.avg_stars, b2_review_count=r.review_count, b2_urlist=r.ur_list, dummy=1)).toDF()\n",
    "business_pairs = yelp_business1.join(yelp_business2, \"dummy\", \"outer\").drop(\"dummy\")"
   ]
  },
  {
   "cell_type": "code",
   "execution_count": 48,
   "metadata": {},
   "outputs": [
    {
     "name": "stdout",
     "output_type": "stream",
     "text": [
      "+------------------+--------------------+---------------+--------------------+------------------+--------------------+---------------+--------------------+\n",
      "|      b1_avg_stars|               b1_id|b1_review_count|           b1_urlist|      b2_avg_stars|               b2_id|b2_review_count|           b2_urlist|\n",
      "+------------------+--------------------+---------------+--------------------+------------------+--------------------+---------------+--------------------+\n",
      "|3.2666666666666666|BKqsk9xD-gucxHusL...|            195|[[U2nBxUx32MQ4cFQ...|3.2666666666666666|BKqsk9xD-gucxHusL...|            195|[[U2nBxUx32MQ4cFQ...|\n",
      "|3.2666666666666666|BKqsk9xD-gucxHusL...|            195|[[U2nBxUx32MQ4cFQ...|  2.73568281938326|Bggqr9BEklylICKl7...|            227|[[UctRgajdIN6VGyx...|\n",
      "|3.2666666666666666|BKqsk9xD-gucxHusL...|            195|[[U2nBxUx32MQ4cFQ...|3.3556485355648538|B9PnB4EYjBAgpMp3b...|            239|[[ULie-hv2Ec3KRfs...|\n",
      "|3.2666666666666666|BKqsk9xD-gucxHusL...|            195|[[U2nBxUx32MQ4cFQ...| 3.543859649122807|BFNENXaAUaswJObEL...|            171|[[UYp35PgKpc_oXg2...|\n",
      "|3.2666666666666666|BKqsk9xD-gucxHusL...|            195|[[U2nBxUx32MQ4cFQ...|3.7877551020408164|BPSBmRPQA3xS3zjmF...|            245|[[UNeTiqk1vFRE-UB...|\n",
      "|3.2666666666666666|BKqsk9xD-gucxHusL...|            195|[[U2nBxUx32MQ4cFQ...| 4.350943396226415|BKLETU7wZ7qLrSMcw...|            265|[[UipErkLZNTZiaXD...|\n",
      "|3.2666666666666666|BKqsk9xD-gucxHusL...|            195|[[U2nBxUx32MQ4cFQ...|3.6666666666666665|BnK0OnPSlO6kQZ4qW...|            276|[[UVpoDB7YNfssovk...|\n",
      "|3.2666666666666666|BKqsk9xD-gucxHusL...|            195|[[U2nBxUx32MQ4cFQ...|2.7958115183246073|BetAjy1m2jMYj6MQE...|            191|[[UXsHaS-DEcpWCLy...|\n",
      "|3.2666666666666666|BKqsk9xD-gucxHusL...|            195|[[U2nBxUx32MQ4cFQ...| 4.026455026455026|B1PlZ7ZSgQ7daOtrp...|            189|[[Uel5Z1M_zxpKE3i...|\n",
      "|3.2666666666666666|BKqsk9xD-gucxHusL...|            195|[[U2nBxUx32MQ4cFQ...| 4.340909090909091|BlD-xYJUeOa293piQ...|            220|[[U0vf7ZaRJ-jW7YS...|\n",
      "+------------------+--------------------+---------------+--------------------+------------------+--------------------+---------------+--------------------+\n",
      "only showing top 10 rows\n",
      "\n"
     ]
    }
   ],
   "source": [
    "business_pairs.show(10)"
   ]
  },
  {
   "cell_type": "code",
   "execution_count": 49,
   "metadata": {},
   "outputs": [
    {
     "data": {
      "text/plain": [
       "10000"
      ]
     },
     "execution_count": 49,
     "metadata": {},
     "output_type": "execute_result"
    }
   ],
   "source": [
    "business_pairs.count()"
   ]
  },
  {
   "cell_type": "code",
   "execution_count": 50,
   "metadata": {},
   "outputs": [
    {
     "name": "stdout",
     "output_type": "stream",
     "text": [
      "root\n",
      " |-- b1_avg_stars: double (nullable = true)\n",
      " |-- b1_id: string (nullable = true)\n",
      " |-- b1_review_count: long (nullable = true)\n",
      " |-- b1_urlist: array (nullable = true)\n",
      " |    |-- element: array (containsNull = true)\n",
      " |    |    |-- element: string (containsNull = true)\n",
      " |-- b2_avg_stars: double (nullable = true)\n",
      " |-- b2_id: string (nullable = true)\n",
      " |-- b2_review_count: long (nullable = true)\n",
      " |-- b2_urlist: array (nullable = true)\n",
      " |    |-- element: array (containsNull = true)\n",
      " |    |    |-- element: string (containsNull = true)\n",
      "\n"
     ]
    }
   ],
   "source": [
    "business_pairs.printSchema()"
   ]
  },
  {
   "cell_type": "code",
   "execution_count": 11,
   "metadata": {},
   "outputs": [],
   "source": [
    "# Calculating the similarity\n",
    "def similarity(row):\n",
    "    sim = 0\n",
    "    for i in range(len(row.b1_urlist)):\n",
    "        for j in range(len(row.b2_urlist)):\n",
    "            if (row.b1_urlist[i][0] == row.b2_urlist[j][0]):\n",
    "                sim += (float(row.b1_urlist[i][2])*float(row.b2_urlist[j][2]))/(float(row.b1_urlist[i][1])*row.b1_avg_stars*row.b1_review_count)\n",
    "    return Row(b1_id=row.b1_id, b2_id=row.b2_id, b1_avg_stars=row.b1_avg_stars, b2_avg_stars=row.b2_avg_stars, \\\n",
    "               b1_review_count=row.b1_review_count, b2_review_count=row.b2_review_count, b1_urlist=row.b1_urlist, b2_urlist=row.b2_urlist,\\\n",
    "              similarity=sim)"
   ]
  },
  {
   "cell_type": "code",
   "execution_count": 12,
   "metadata": {},
   "outputs": [],
   "source": [
    "business_similarity = business_pairs.rdd.map(similarity).toDF().where((col(\"similarity\").isNotNull()) & (col(\"similarity\") != 0))"
   ]
  },
  {
   "cell_type": "code",
   "execution_count": null,
   "metadata": {},
   "outputs": [],
   "source": [
    "business_similarity.show(10)"
   ]
  },
  {
   "cell_type": "code",
   "execution_count": null,
   "metadata": {},
   "outputs": [
    {
     "data": {
      "text/plain": [
       "9516"
      ]
     },
     "execution_count": 13,
     "metadata": {},
     "output_type": "execute_result"
    }
   ],
   "source": [
    "business_similarity.count()"
   ]
  },
  {
   "cell_type": "markdown",
   "metadata": {},
   "source": [
    "## The weighted Bipartite Graph Projection"
   ]
  },
  {
   "cell_type": "code",
   "execution_count": 14,
   "metadata": {},
   "outputs": [],
   "source": [
    "# Now we construct the weighted Bipartite Graph Projection for the business set where the weights are similarities between businesses\n",
    "# Pack the business_2's information into edges for the prediction part!\n",
    "weightEdges = business_similarity.rdd.map(lambda r: Row(src=r.b1_id, dst=r.b2_id, sim=[r.b2_id, r.b2_avg_stars, r.similarity])).toDF()\n",
    "\n",
    "# build the graph\n",
    "BGprojection = GraphFrame(businessVertices, weightEdges)"
   ]
  },
  {
   "cell_type": "code",
   "execution_count": 15,
   "metadata": {},
   "outputs": [],
   "source": [
    "# Add the prefix \"U\" and \"B\" to match the columns in the graph\n",
    "testr_withprefix = test_r.rdd.map(lambda r: Row(business_id=\"B\"+str(r.business_id), user_id=\"U\"+str(r.user_id), stars=r.stars)).toDF()"
   ]
  },
  {
   "cell_type": "code",
   "execution_count": 16,
   "metadata": {},
   "outputs": [],
   "source": [
    "# aggregateMessages for similarities\n",
    "msgtoSrc = AM.edge['sim']\n",
    "testr_withsim = BGprojection.aggregateMessages\\\n",
    "                            (collect_list(AM.msg).alias('sim_list'), sendToSrc=msgtoSrc).withColumnRenamed(\"id\", \"business_id\").\\\n",
    "                            join(testr_withprefix, \"business_id\", \"right\").\\\n",
    "                            join(businessVertices.select(\"id\", \"avg_stars\").withColumnRenamed(\"id\", \"business_id\"), \"business_id\", \"left\")"
   ]
  },
  {
   "cell_type": "code",
   "execution_count": null,
   "metadata": {},
   "outputs": [
    {
     "name": "stdout",
     "output_type": "stream",
     "text": [
      "+--------------------+--------------------+-----+--------------------+------------------+\n",
      "|         business_id|            sim_list|stars|             user_id|         avg_stars|\n",
      "+--------------------+--------------------+-----+--------------------+------------------+\n",
      "|BKqsk9xD-gucxHusL...|[[Bggqr9BEklylICK...|  1.0|U8-NY40fdXUIuE_qb...|3.2666666666666666|\n",
      "|BKqsk9xD-gucxHusL...|[[Bggqr9BEklylICK...|  1.0|UEDi1xp0MhGHCSsIs...|3.2666666666666666|\n",
      "|BKqsk9xD-gucxHusL...|[[Bggqr9BEklylICK...|  1.0|UP2pKOuQvVSNQvfQ3...|3.2666666666666666|\n",
      "|BKqsk9xD-gucxHusL...|[[Bggqr9BEklylICK...|  1.0|UQrmvIxbRKJbyEzLZ...|3.2666666666666666|\n",
      "|BKqsk9xD-gucxHusL...|[[Bggqr9BEklylICK...|  1.0|UsITomiR7clEXeWPK...|3.2666666666666666|\n",
      "+--------------------+--------------------+-----+--------------------+------------------+\n",
      "only showing top 5 rows\n",
      "\n"
     ]
    }
   ],
   "source": [
    "testr_withsim.cache()\n",
    "testr_withsim.show(5)"
   ]
  },
  {
   "cell_type": "code",
   "execution_count": 18,
   "metadata": {},
   "outputs": [],
   "source": [
    "# aggregateMessages for br_lists\n",
    "msgtoSrc = AM.edge['bstars']\n",
    "testr_withsimbr = bipartiteGraph.aggregateMessages\\\n",
    "                            (collect_list(AM.msg).alias('br_list'), sendToSrc=msgtoSrc).withColumnRenamed(\"id\", \"user_id\").\\\n",
    "                            join(testr_withsim, \"user_id\", \"right\")"
   ]
  },
  {
   "cell_type": "code",
   "execution_count": 29,
   "metadata": {},
   "outputs": [
    {
     "data": {
      "text/plain": [
       "[Row(user_id=u'UVpOelcT-TOgmxaxXR7z5qQ', br_list=None, business_id=u'BYXmYrqH__hwgO2aHWGmN9w', sim_list=[[u'BYXmYrqH__hwgO2aHWGmN9w', u'2.2758620689655173', u'1.0']], stars=5.0, avg_stars=2.2758620689655173),\n",
       " Row(user_id=u'UJJ3WxVE0lt8M9yfqpI88TA', br_list=None, business_id=u'BBAt03TGTq4V4371JUJRHmA', sim_list=[[u'BBAt03TGTq4V4371JUJRHmA', u'3.933333333333333', u'0.9999999999999999']], stars=5.0, avg_stars=3.933333333333333),\n",
       " Row(user_id=u'UPqV8oL8xQsJIVFPn1l-Dxw', br_list=None, business_id=u'B0L_JnBEWB1OH0KkafQ2OYQ', sim_list=[[u'B0L_JnBEWB1OH0KkafQ2OYQ', u'4.851851851851852', u'0.9999999999999994']], stars=5.0, avg_stars=4.851851851851852)]"
      ]
     },
     "execution_count": 29,
     "metadata": {},
     "output_type": "execute_result"
    }
   ],
   "source": [
    "testr_withsimbr.cache()\n",
    "testr_withsimbr.show(5)"
   ]
  },
  {
   "cell_type": "code",
   "execution_count": 19,
   "metadata": {},
   "outputs": [],
   "source": [
    "# predict the ratings\n",
    "def Prediction(row):\n",
    "    pred = row.avg_stars\n",
    "    if (row.sim_list is not None and row.br_list is not None):\n",
    "        for i in range(len(row.sim_list)):\n",
    "            for j in range(len(row.br_list)):\n",
    "                if row.sim_list[i][0] == row.br_list[j][0]:\n",
    "                    pred += float(row.sim_list[i][2])*(float(row.br_list[j][1])-float(row.sim_list[i][1]))\n",
    "    return Row(business_id=row.business_id, user_id=row.user_id, actual_stars=row.stars, pred_stars=pred)"
   ]
  },
  {
   "cell_type": "code",
   "execution_count": 20,
   "metadata": {},
   "outputs": [
    {
     "name": "stdout",
     "output_type": "stream",
     "text": [
      "+------------+--------------------+------------------+--------------------+\n",
      "|actual_stars|         business_id|        pred_stars|             user_id|\n",
      "+------------+--------------------+------------------+--------------------+\n",
      "|         4.0|BeY3-ZE8-njGOglAC...| 4.328813559322034|U-08ESkTAS5j9SZDG...|\n",
      "|         2.0|BRJBCFf7Ov6dRguTr...| 3.808147915072359|U2lMVWQYWb-_Wpj7C...|\n",
      "|         5.0|BTDQ0lSTHW3RyfVWQ...|3.7987484266409144|U2lMVWQYWb-_Wpj7C...|\n",
      "|         5.0|BrgGJMwcrNTuCcY49...| 4.153846153846154|U3xKbi6-gT4nY_V23...|\n",
      "|         5.0|BIMYh4LJm1ubY5Lw3...| 4.709283865127501|UB94Qv61bCM9Ru5_O...|\n",
      "+------------+--------------------+------------------+--------------------+\n",
      "only showing top 5 rows\n",
      "\n"
     ]
    }
   ],
   "source": [
    "#Finally, we get the predictions.\n",
    "result = testr_withsimbr.rdd.map(Prediction).toDF()\n",
    "result.show(5)"
   ]
  },
  {
   "cell_type": "code",
   "execution_count": 21,
   "metadata": {},
   "outputs": [
    {
     "name": "stdout",
     "output_type": "stream",
     "text": [
      "Root-mean-square error = 1.30947407919\n"
     ]
    }
   ],
   "source": [
    "# evaluate the RMSE\n",
    "evaluator = RegressionEvaluator(metricName=\"rmse\", labelCol=\"actual_stars\", predictionCol=\"pred_stars\")\n",
    "rmse = evaluator.evaluate(result)\n",
    "print(\"Root-mean-square error = \" + str(rmse))"
   ]
  },
  {
   "cell_type": "code",
   "execution_count": 22,
   "metadata": {},
   "outputs": [
    {
     "data": {
      "text/plain": [
       "6236"
      ]
     },
     "execution_count": 22,
     "metadata": {},
     "output_type": "execute_result"
    }
   ],
   "source": [
    "testr_withsim.count()"
   ]
  },
  {
   "cell_type": "code",
   "execution_count": null,
   "metadata": {},
   "outputs": [],
   "source": []
  },
  {
   "cell_type": "code",
   "execution_count": null,
   "metadata": {},
   "outputs": [],
   "source": []
  },
  {
   "cell_type": "code",
   "execution_count": null,
   "metadata": {},
   "outputs": [],
   "source": []
  },
  {
   "cell_type": "code",
   "execution_count": null,
   "metadata": {},
   "outputs": [],
   "source": []
  },
  {
   "cell_type": "code",
   "execution_count": null,
   "metadata": {},
   "outputs": [],
   "source": []
  },
  {
   "cell_type": "code",
   "execution_count": null,
   "metadata": {},
   "outputs": [],
   "source": []
  },
  {
   "cell_type": "code",
   "execution_count": null,
   "metadata": {},
   "outputs": [],
   "source": []
  },
  {
   "cell_type": "code",
   "execution_count": null,
   "metadata": {},
   "outputs": [],
   "source": []
  },
  {
   "cell_type": "code",
   "execution_count": null,
   "metadata": {},
   "outputs": [],
   "source": []
  },
  {
   "cell_type": "code",
   "execution_count": null,
   "metadata": {},
   "outputs": [],
   "source": []
  }
 ],
 "metadata": {
  "kernelspec": {
   "display_name": "PySpark",
   "language": "python",
   "name": "pyspark"
  },
  "language_info": {
   "codemirror_mode": {
    "name": "ipython",
    "version": 2
   },
   "file_extension": ".py",
   "mimetype": "text/x-python",
   "name": "python",
   "nbconvert_exporter": "python",
   "pygments_lexer": "ipython2",
   "version": "2.7.14"
  }
 },
 "nbformat": 4,
 "nbformat_minor": 2
}
